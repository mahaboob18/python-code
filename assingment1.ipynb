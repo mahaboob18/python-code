{
  "nbformat": 4,
  "nbformat_minor": 0,
  "metadata": {
    "colab": {
      "provenance": []
    },
    "kernelspec": {
      "name": "python3",
      "display_name": "Python 3"
    },
    "language_info": {
      "name": "python"
    }
  },
  "cells": [
    {
      "cell_type": "code",
      "source": [
        "# write a python program to convert a string to lowercase\n",
        "var=\"MAHABOOB\"\n",
        "\n",
        "var.lower()"
      ],
      "metadata": {
        "colab": {
          "base_uri": "https://localhost:8080/",
          "height": 36
        },
        "id": "rTO6JZw9wula",
        "outputId": "10f5b2fa-1cd5-4263-da94-a48b6ee9767a"
      },
      "execution_count": null,
      "outputs": [
        {
          "output_type": "execute_result",
          "data": {
            "text/plain": [
              "'mahaboob'"
            ],
            "application/vnd.google.colaboratory.intrinsic+json": {
              "type": "string"
            }
          },
          "metadata": {},
          "execution_count": 1
        }
      ]
    },
    {
      "cell_type": "code",
      "source": [
        "# write a python program to convert only odd indexed characters to lowercase\n",
        "x=\"MAHABOOB\"\n",
        "\n",
        "x[0]+x[1].lower()+x[2]+x[3].lower()+x[4]+x[5].lower()+x[6]+x[7].lower()"
      ],
      "metadata": {
        "colab": {
          "base_uri": "https://localhost:8080/",
          "height": 36
        },
        "id": "intd-MdAxZGV",
        "outputId": "21c59955-a52e-4425-ce5e-e15c3b9915a1"
      },
      "execution_count": null,
      "outputs": [
        {
          "output_type": "execute_result",
          "data": {
            "text/plain": [
              "'MaHaBoOb'"
            ],
            "application/vnd.google.colaboratory.intrinsic+json": {
              "type": "string"
            }
          },
          "metadata": {},
          "execution_count": 4
        }
      ]
    },
    {
      "cell_type": "code",
      "source": [
        "\n",
        "# write a python program to convert only even indexed characters to lowercase\n",
        "y=\"MAHABOOB\"\n",
        "\n",
        "y[0].lower()+y[1]+y[2].lower()+y[3]+y[4].lower()+y[5]+y[6].lower()+y[7]"
      ],
      "metadata": {
        "colab": {
          "base_uri": "https://localhost:8080/",
          "height": 36
        },
        "id": "uFXwVLXry89h",
        "outputId": "3ac62516-aeb5-449b-c328-e499a9fd52cd"
      },
      "execution_count": null,
      "outputs": [
        {
          "output_type": "execute_result",
          "data": {
            "text/plain": [
              "'mAhAbOoB'"
            ],
            "application/vnd.google.colaboratory.intrinsic+json": {
              "type": "string"
            }
          },
          "metadata": {},
          "execution_count": 10
        }
      ]
    },
    {
      "cell_type": "code",
      "source": [
        "# write a python program to convert only odd indexed characters to uppercase\n",
        "z=\"bharat\"\n",
        "\n",
        "z[0]+z[1].upper()+z[2]+z[3].upper()+z[4]+z[5].upper()"
      ],
      "metadata": {
        "colab": {
          "base_uri": "https://localhost:8080/",
          "height": 36
        },
        "id": "6T0QLkxr07lL",
        "outputId": "0988113b-a971-43fd-84c4-8d02122b42d2"
      },
      "execution_count": null,
      "outputs": [
        {
          "output_type": "execute_result",
          "data": {
            "text/plain": [
              "'bHaRaT'"
            ],
            "application/vnd.google.colaboratory.intrinsic+json": {
              "type": "string"
            }
          },
          "metadata": {},
          "execution_count": 9
        }
      ]
    },
    {
      "cell_type": "code",
      "source": [
        "# write a python program to convert  even indexed characters to uppercase\n",
        "z=\"bharat\"\n",
        "\n",
        "z[0].upper()+z[1]+z[2].upper()+z[3]+z[4].upper()+z[5]\n"
      ],
      "metadata": {
        "colab": {
          "base_uri": "https://localhost:8080/",
          "height": 36
        },
        "id": "DNsgSzXx4EPE",
        "outputId": "2376f3bc-22b8-4c00-fece-bc59ca295b3e"
      },
      "execution_count": null,
      "outputs": [
        {
          "output_type": "execute_result",
          "data": {
            "text/plain": [
              "'BhArAt'"
            ],
            "application/vnd.google.colaboratory.intrinsic+json": {
              "type": "string"
            }
          },
          "metadata": {},
          "execution_count": 14
        }
      ]
    },
    {
      "cell_type": "code",
      "source": [
        "name=input(\"enter your name\")\n",
        "sex=input(\"enter your sex\")\n",
        "age=int(input(\"enter your age\"))\n",
        "phoneno=int(input(\"enter your phone no\"))\n",
        "fathername=input(\"enter your fathername\")\n",
        "mothername=input(\"enter your mothername\")\n",
        "\n"
      ],
      "metadata": {
        "colab": {
          "base_uri": "https://localhost:8080/"
        },
        "id": "NEfKmF_t5TnA",
        "outputId": "732e0276-ba69-4c9e-b3f3-811fff73a638"
      },
      "execution_count": null,
      "outputs": [
        {
          "name": "stdout",
          "output_type": "stream",
          "text": [
            "enter your namemahaboob\n",
            "enter your sexmale\n",
            "enter your age19\n",
            "enter your phone no8897752582\n",
            "enter your fathernameramzan\n",
            "enter your mothernanekhairun\n"
          ]
        }
      ]
    },
    {
      "cell_type": "code",
      "source": [
        "(name,age,sex,phoneno,fathername,mothername)"
      ],
      "metadata": {
        "colab": {
          "base_uri": "https://localhost:8080/"
        },
        "id": "zZ9xdJgybFBj",
        "outputId": "c922e6a1-0c8f-4d0e-d4d4-eca650230fa2"
      },
      "execution_count": null,
      "outputs": [
        {
          "output_type": "execute_result",
          "data": {
            "text/plain": [
              "('mahaboob', 19, 'male', 8897752582, 'ramzan', 'khairun')"
            ]
          },
          "metadata": {},
          "execution_count": 27
        }
      ]
    },
    {
      "cell_type": "code",
      "source": [
        "# write a python program where you have different variable which contains your name,sex,age,phoneno,fathername,mothername.andby using this variable create a variable named biodata where you will see all this variable#\n",
        "#example=print(boidata)\n",
        "#otuput=my name is...,my age is...,my sex is....,my phoneno is...,my fathername is....,my mothername....,\n",
        "name=\"mahaboob\"\n",
        "sex=\"male\"\n",
        "age=19\n",
        "phoneno=8897752582\n",
        "fathername=\"ramzan\"\n",
        "mothername=\"khairun\"\n",
        "\n",
        "\n",
        "biodata=\"my name is{},my sex is {},my age is{},my phoneno{},my fathername{},my mothername{}\".format(name,sex,age,phoneno,fathername,mothername)"
      ],
      "metadata": {
        "id": "qV_kQqXSFpAd"
      },
      "execution_count": null,
      "outputs": []
    },
    {
      "cell_type": "code",
      "source": [
        "biodata"
      ],
      "metadata": {
        "colab": {
          "base_uri": "https://localhost:8080/",
          "height": 36
        },
        "id": "C_OniPmWFoHJ",
        "outputId": "095abbbc-2920-4b27-9afd-946876779586"
      },
      "execution_count": null,
      "outputs": [
        {
          "output_type": "execute_result",
          "data": {
            "text/plain": [
              "'my name ismahaboob,my sex is male,my age is19,my phoneno8897752582,my fathernameramzan,my mothernamekhairun'"
            ],
            "application/vnd.google.colaboratory.intrinsic+json": {
              "type": "string"
            }
          },
          "metadata": {},
          "execution_count": 44
        }
      ]
    },
    {
      "cell_type": "code",
      "source": [
        " #write a pyth0n program to count how many times \"@\" occured\n",
        " var4=\"aba@@@@BB@@@Koijol@@@@@\"\n",
        "\n",
        " var4.count(\"@\")"
      ],
      "metadata": {
        "id": "0wFwHyb-FQdz",
        "colab": {
          "base_uri": "https://localhost:8080/"
        },
        "outputId": "41eef3c8-e02e-4083-cdde-f8c69abb0687"
      },
      "execution_count": null,
      "outputs": [
        {
          "output_type": "execute_result",
          "data": {
            "text/plain": [
              "12"
            ]
          },
          "metadata": {},
          "execution_count": 46
        }
      ]
    },
    {
      "cell_type": "code",
      "source": [
        "# write a python program to get only names from string\n",
        "\n",
        "ironman=\"mahaboob@gmail.com,tonystark@gmail.com,cristty@gmail.com\"\n",
        "\n",
        "ironman.replace( \"@gmail.com\",  \"  \")"
      ],
      "metadata": {
        "colab": {
          "base_uri": "https://localhost:8080/",
          "height": 36
        },
        "id": "EsivrJ1Rhaio",
        "outputId": "2c59aff2-1007-459a-859a-0dabbd1f3453"
      },
      "execution_count": null,
      "outputs": [
        {
          "output_type": "execute_result",
          "data": {
            "text/plain": [
              "'mahaboob  ,tonystark  ,cristty  '"
            ],
            "application/vnd.google.colaboratory.intrinsic+json": {
              "type": "string"
            }
          },
          "metadata": {},
          "execution_count": 59
        }
      ]
    },
    {
      "cell_type": "code",
      "source": [
        "# given a string odd length greater that 9,return a new string made of the middle three characters of a givem string\n",
        "\n",
        "x=\"abcdieaaabcb\"\n",
        "x.strip(\"abc\")"
      ],
      "metadata": {
        "colab": {
          "base_uri": "https://localhost:8080/",
          "height": 36
        },
        "id": "kbOsHZlssZ-O",
        "outputId": "466c8266-65f0-4ad9-e46c-ce5066216603"
      },
      "execution_count": null,
      "outputs": [
        {
          "output_type": "execute_result",
          "data": {
            "text/plain": [
              "'die'"
            ],
            "application/vnd.google.colaboratory.intrinsic+json": {
              "type": "string"
            }
          },
          "metadata": {},
          "execution_count": 63
        }
      ]
    },
    {
      "cell_type": "code",
      "source": [
        "# write a python program to insert a 2 string in the middle of 1 string\n",
        "x=\"i am datascience\"\n",
        "y=\"persuing\"\n",
        "\n",
        "x[0:5]+y[0: ]+x[4:]\n"
      ],
      "metadata": {
        "id": "WhtN-6OluWLS",
        "colab": {
          "base_uri": "https://localhost:8080/",
          "height": 36
        },
        "outputId": "67299576-1efa-414f-b711-933968fbb89c"
      },
      "execution_count": 8,
      "outputs": [
        {
          "output_type": "execute_result",
          "data": {
            "text/plain": [
              "'i am persuing datascience'"
            ],
            "application/vnd.google.colaboratory.intrinsic+json": {
              "type": "string"
            }
          },
          "metadata": {},
          "execution_count": 8
        }
      ]
    },
    {
      "cell_type": "code",
      "source": [
        "#write a python program to remove vowels from the entire alphabets\n",
        "\n",
        "x=\"abcdefghijklmnopqrstuvwxyz\"\n",
        "a=x.replace(\"a\",\"\")\n",
        "b=a.replace(\"e\",\"\")\n",
        "c=b.replace(\"i\",\"\")\n",
        "d=c.replace(\"o\",\"\")\n",
        "e=d.replace(\"u\",\"\")\n",
        "print(e)"
      ],
      "metadata": {
        "colab": {
          "base_uri": "https://localhost:8080/"
        },
        "id": "z5WPaIzQ5YPc",
        "outputId": "496e50bb-09a1-49c2-fd43-68c09718982d"
      },
      "execution_count": 27,
      "outputs": [
        {
          "output_type": "stream",
          "name": "stdout",
          "text": [
            "bcdfghjklmnpqrstvwxyz\n"
          ]
        }
      ]
    }
  ]
}