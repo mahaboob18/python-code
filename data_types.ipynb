{
  "nbformat": 4,
  "nbformat_minor": 0,
  "metadata": {
    "colab": {
      "provenance": []
    },
    "kernelspec": {
      "name": "python3",
      "display_name": "Python 3"
    },
    "language_info": {
      "name": "python"
    }
  },
  "cells": [
    {
      "cell_type": "code",
      "source": [
        "l=[1,2,3,4,\"mm\",1.1]\n",
        "l[0:2]\n",
        "# list is a collection datatype\n",
        "# inside a list each data is called element\n",
        "#list are mutable(add,repalce and delete ) and ordered(having index)\n",
        "#list can have duplicate elementsl=[1,12,13,\"a\",\"b\"]"
      ],
      "metadata": {
        "colab": {
          "base_uri": "https://localhost:8080/"
        },
        "id": "0PQmIe3fTUJs",
        "outputId": "5424ca69-9559-43cb-befb-6003c6d223b2"
      },
      "execution_count": 2,
      "outputs": [
        {
          "output_type": "execute_result",
          "data": {
            "text/plain": [
              "[1, 2]"
            ]
          },
          "metadata": {},
          "execution_count": 2
        }
      ]
    },
    {
      "cell_type": "code",
      "source": [
        "# list constructer\n",
        "# list(())\n",
        "list((1,2.2,\"buji\"))"
      ],
      "metadata": {
        "colab": {
          "base_uri": "https://localhost:8080/"
        },
        "id": "LSEQTq47Wr87",
        "outputId": "32da41b6-3a57-4254-c6f9-bbe964c9a68b"
      },
      "execution_count": 3,
      "outputs": [
        {
          "output_type": "execute_result",
          "data": {
            "text/plain": [
              "[1, 2.2, 'buji']"
            ]
          },
          "metadata": {},
          "execution_count": 3
        }
      ]
    },
    {
      "cell_type": "code",
      "source": [
        "l=[1,12,13,\"a\",\"b\"]"
      ],
      "metadata": {
        "id": "4uTfMsP-TF4M"
      },
      "execution_count": 4,
      "outputs": []
    },
    {
      "cell_type": "code",
      "source": [
        "l[3]=100\n",
        "l"
      ],
      "metadata": {
        "colab": {
          "base_uri": "https://localhost:8080/"
        },
        "id": "96cY7XvATGNU",
        "outputId": "e5c2e058-50c2-4b11-aa63-8fd9b27987e7"
      },
      "execution_count": 5,
      "outputs": [
        {
          "output_type": "execute_result",
          "data": {
            "text/plain": [
              "[1, 12, 13, 100, 'b']"
            ]
          },
          "metadata": {},
          "execution_count": 5
        }
      ]
    },
    {
      "cell_type": "code",
      "source": [
        "l[4]=100,200,300\n",
        "l"
      ],
      "metadata": {
        "colab": {
          "base_uri": "https://localhost:8080/"
        },
        "id": "BzoUsgSwTGYS",
        "outputId": "2336cbc7-8329-4b50-b711-ccadabe1b15f"
      },
      "execution_count": 6,
      "outputs": [
        {
          "output_type": "execute_result",
          "data": {
            "text/plain": [
              "[1, 12, 13, 100, (100, 200, 300)]"
            ]
          },
          "metadata": {},
          "execution_count": 6
        }
      ]
    },
    {
      "cell_type": "code",
      "source": [
        "l[2:4]=40,#comma is mandatory as machine is expecting iterable\n",
        "l"
      ],
      "metadata": {
        "colab": {
          "base_uri": "https://localhost:8080/"
        },
        "id": "LMBvVIXtTGiD",
        "outputId": "f8878025-f1ba-4a79-b4ed-afc80e425d9e"
      },
      "execution_count": 7,
      "outputs": [
        {
          "output_type": "execute_result",
          "data": {
            "text/plain": [
              "[1, 12, 40, (100, 200, 300)]"
            ]
          },
          "metadata": {},
          "execution_count": 7
        }
      ]
    },
    {
      "cell_type": "code",
      "source": [
        "l=[11,12,100,200,300]\n",
        "l.insert(0,\"a\")\n",
        "l\n"
      ],
      "metadata": {
        "colab": {
          "base_uri": "https://localhost:8080/"
        },
        "id": "96rMvfGHTGqw",
        "outputId": "0c759840-2695-410a-8f6b-1dec1afb7734"
      },
      "execution_count": 9,
      "outputs": [
        {
          "output_type": "execute_result",
          "data": {
            "text/plain": [
              "['a', 11, 12, 100, 200, 300]"
            ]
          },
          "metadata": {},
          "execution_count": 9
        }
      ]
    },
    {
      "cell_type": "code",
      "source": [
        "l.insert(3,\"buji\")\n",
        "l"
      ],
      "metadata": {
        "colab": {
          "base_uri": "https://localhost:8080/"
        },
        "id": "SZQjMW-1qcja",
        "outputId": "3a5ec551-22af-4fff-d6a0-ed4ffba708fc"
      },
      "execution_count": 11,
      "outputs": [
        {
          "output_type": "execute_result",
          "data": {
            "text/plain": [
              "['a', 11, 12, 'buji', 'buji', 100, 200, 300]"
            ]
          },
          "metadata": {},
          "execution_count": 11
        }
      ]
    },
    {
      "cell_type": "code",
      "source": [
        "l.insert(7,99)\n",
        "l"
      ],
      "metadata": {
        "colab": {
          "base_uri": "https://localhost:8080/"
        },
        "id": "b5QT98qKq0SC",
        "outputId": "8d3f2385-70d4-4b36-91ca-8695cba5ddec"
      },
      "execution_count": 14,
      "outputs": [
        {
          "output_type": "execute_result",
          "data": {
            "text/plain": [
              "['a', 11, 12, 'buji', 'buji', 100, 200, 99, 99, 99, 300]"
            ]
          },
          "metadata": {},
          "execution_count": 14
        }
      ]
    },
    {
      "cell_type": "code",
      "source": [
        "l.insert(-1,\"b\")\n",
        "l#element are pushed to the right to create space\n"
      ],
      "metadata": {
        "colab": {
          "base_uri": "https://localhost:8080/"
        },
        "id": "Nkh3J0wHTGyT",
        "outputId": "c0b5ffb2-9d5d-4ccb-b0bc-11deb6c02433"
      },
      "execution_count": null,
      "outputs": [
        {
          "output_type": "execute_result",
          "data": {
            "text/plain": [
              "['a', 11, 12, 100, 200, 'b', 300]"
            ]
          },
          "metadata": {},
          "execution_count": 33
        }
      ]
    },
    {
      "cell_type": "code",
      "source": [
        "#instead we need to use +ve indexing\n",
        "l=[11,12,100,200,300]\n",
        "l.insert(5,\"b\")\n",
        "l"
      ],
      "metadata": {
        "colab": {
          "base_uri": "https://localhost:8080/"
        },
        "id": "Keqp00mzTG6h",
        "outputId": "c44d0079-62a6-4956-8cd3-32b73daf15f6"
      },
      "execution_count": null,
      "outputs": [
        {
          "output_type": "execute_result",
          "data": {
            "text/plain": [
              "[11, 12, 100, 200, 300, 'b']"
            ]
          },
          "metadata": {},
          "execution_count": 52
        }
      ]
    },
    {
      "cell_type": "code",
      "source": [
        "l.append(1+2j)\n",
        "l#add the element at the end of the list\n",
        "# we can insert or append one element at a time if we want to use  insert or append multiple elements we need to use multiple appends and insert"
      ],
      "metadata": {
        "colab": {
          "base_uri": "https://localhost:8080/"
        },
        "id": "9nB20e3STHCf",
        "outputId": "1ea9653c-4de4-4fc5-c0dc-b6ee0651629e"
      },
      "execution_count": 15,
      "outputs": [
        {
          "output_type": "execute_result",
          "data": {
            "text/plain": [
              "['a', 11, 12, 'buji', 'buji', 100, 200, 99, 99, 99, 300, (1+2j)]"
            ]
          },
          "metadata": {},
          "execution_count": 15
        }
      ]
    },
    {
      "cell_type": "code",
      "source": [
        "l.extend(\"abc\")# extend will only accept sequential data\n",
        "l"
      ],
      "metadata": {
        "colab": {
          "base_uri": "https://localhost:8080/"
        },
        "id": "JPZCxyLOTHKF",
        "outputId": "a64c1e33-5054-4cbf-9226-20e23154cd46"
      },
      "execution_count": null,
      "outputs": [
        {
          "output_type": "execute_result",
          "data": {
            "text/plain": [
              "[11, 12, 100, 200, 300, 'b', (1+2j), 'a', 'b', 'c']"
            ]
          },
          "metadata": {},
          "execution_count": 54
        }
      ]
    },
    {
      "cell_type": "code",
      "source": [
        "l.extend((1,2))\n",
        "l"
      ],
      "metadata": {
        "colab": {
          "base_uri": "https://localhost:8080/"
        },
        "id": "DGpLm58Cr2sv",
        "outputId": "8397e987-5606-4efd-9b3f-c1b2d9913878"
      },
      "execution_count": 19,
      "outputs": [
        {
          "output_type": "execute_result",
          "data": {
            "text/plain": [
              "['a', 11, 12, 'buji', 'buji', 100, 200, 99, 99, 99, 300, (1+2j), 1, 2, 1, 2]"
            ]
          },
          "metadata": {},
          "execution_count": 19
        }
      ]
    },
    {
      "cell_type": "code",
      "source": [
        "x=[0,1,2,4,\"a\"]\n",
        "x.extend((0,12,3))\n",
        "x"
      ],
      "metadata": {
        "colab": {
          "base_uri": "https://localhost:8080/"
        },
        "id": "CHU5Cs5kTHTP",
        "outputId": "b8866a14-0fb7-4d4e-d15e-cdd3ef0dab4e"
      },
      "execution_count": 20,
      "outputs": [
        {
          "output_type": "execute_result",
          "data": {
            "text/plain": [
              "[0, 1, 2, 4, 'a', 0, 12, 3]"
            ]
          },
          "metadata": {},
          "execution_count": 20
        }
      ]
    },
    {
      "cell_type": "code",
      "source": [
        "x.extend([\"buji\"])\n",
        "x"
      ],
      "metadata": {
        "colab": {
          "base_uri": "https://localhost:8080/"
        },
        "id": "eFAkjOlgTHa1",
        "outputId": "bbcf560c-f4fb-4cc0-9b30-952245aafabb"
      },
      "execution_count": null,
      "outputs": [
        {
          "output_type": "execute_result",
          "data": {
            "text/plain": [
              "[0, 1, 2, 4, 'a', 0, 12, 3, 'buji']"
            ]
          },
          "metadata": {},
          "execution_count": 61
        }
      ]
    },
    {
      "cell_type": "code",
      "source": [
        "# deleting / removing elements from lists\n",
        "x"
      ],
      "metadata": {
        "colab": {
          "base_uri": "https://localhost:8080/"
        },
        "id": "ItbFuIRQcx3K",
        "outputId": "8a8ee185-a760-4086-a8c0-595705ff2d62"
      },
      "execution_count": 21,
      "outputs": [
        {
          "output_type": "execute_result",
          "data": {
            "text/plain": [
              "[0, 1, 2, 4, 'a', 0, 12, 3]"
            ]
          },
          "metadata": {},
          "execution_count": 21
        }
      ]
    },
    {
      "cell_type": "code",
      "source": [
        "del x[0]\n",
        "x"
      ],
      "metadata": {
        "colab": {
          "base_uri": "https://localhost:8080/"
        },
        "id": "UZVklyt3cyCG",
        "outputId": "dec963fd-8b4a-4df6-a3be-d6b6c624f540"
      },
      "execution_count": 22,
      "outputs": [
        {
          "output_type": "execute_result",
          "data": {
            "text/plain": [
              "[1, 2, 4, 'a', 0, 12, 3]"
            ]
          },
          "metadata": {},
          "execution_count": 22
        }
      ]
    },
    {
      "cell_type": "code",
      "source": [
        "y=[111,12,3,4,34,64]\n",
        "y.pop(0)#output gives what was removed"
      ],
      "metadata": {
        "colab": {
          "base_uri": "https://localhost:8080/"
        },
        "id": "bwHyMVNCcyOx",
        "outputId": "cd52fc19-55cb-446e-c1ab-d4734708655d"
      },
      "execution_count": 1,
      "outputs": [
        {
          "output_type": "execute_result",
          "data": {
            "text/plain": [
              "111"
            ]
          },
          "metadata": {},
          "execution_count": 1
        }
      ]
    },
    {
      "cell_type": "code",
      "source": [
        "y.pop()#if nothing is not mentioned last element will remove\n",
        "y"
      ],
      "metadata": {
        "colab": {
          "base_uri": "https://localhost:8080/"
        },
        "id": "t7XT0DPlcyYC",
        "outputId": "a4310df9-e78a-4628-e3d8-fd7fc4942635"
      },
      "execution_count": 2,
      "outputs": [
        {
          "output_type": "execute_result",
          "data": {
            "text/plain": [
              "[12, 3, 4, 34]"
            ]
          },
          "metadata": {},
          "execution_count": 2
        }
      ]
    },
    {
      "cell_type": "code",
      "source": [
        "p=[11,12,3,4,100,200]\n",
        "p.remove(12)# here we mention specified elements to remove\n",
        "p"
      ],
      "metadata": {
        "colab": {
          "base_uri": "https://localhost:8080/"
        },
        "id": "8F6JGKcDcyfu",
        "outputId": "04cd3d58-661f-46b5-dd1e-06020a7e7110"
      },
      "execution_count": 5,
      "outputs": [
        {
          "output_type": "execute_result",
          "data": {
            "text/plain": [
              "[11, 3, 4, 100, 200]"
            ]
          },
          "metadata": {},
          "execution_count": 5
        }
      ]
    },
    {
      "cell_type": "code",
      "source": [
        "t=[11,1,2,3,14,55,57]\n",
        "t.clear()\n",
        "t# clear all the elements and gives empty list"
      ],
      "metadata": {
        "colab": {
          "base_uri": "https://localhost:8080/"
        },
        "id": "ZX3VY45EcynU",
        "outputId": "707d6b4a-e705-4eee-f67b-c03206af3902"
      },
      "execution_count": 7,
      "outputs": [
        {
          "output_type": "execute_result",
          "data": {
            "text/plain": [
              "[]"
            ]
          },
          "metadata": {},
          "execution_count": 7
        }
      ]
    },
    {
      "cell_type": "code",
      "source": [
        "l=[1,12,13,4,5]\n",
        "z=l.copy()\n",
        "z\n"
      ],
      "metadata": {
        "colab": {
          "base_uri": "https://localhost:8080/"
        },
        "id": "qwhJIAIjcyud",
        "outputId": "acd79a1d-e5f6-4a38-f8ed-751d70289aef"
      },
      "execution_count": 8,
      "outputs": [
        {
          "output_type": "execute_result",
          "data": {
            "text/plain": [
              "[1, 12, 13, 4, 5]"
            ]
          },
          "metadata": {},
          "execution_count": 8
        }
      ]
    },
    {
      "cell_type": "code",
      "source": [
        "l=[1,2,3,4,5]\n",
        "s=list(l)\n",
        "s"
      ],
      "metadata": {
        "colab": {
          "base_uri": "https://localhost:8080/"
        },
        "id": "nJ42n2YIcy12",
        "outputId": "832c538d-8a86-46a3-ee05-4c3d339fe795"
      },
      "execution_count": 9,
      "outputs": [
        {
          "output_type": "execute_result",
          "data": {
            "text/plain": [
              "[1, 2, 3, 4, 5]"
            ]
          },
          "metadata": {},
          "execution_count": 9
        }
      ]
    },
    {
      "cell_type": "code",
      "source": [
        "#\n",
        "data=[\"mahaboob\",\"buji\",21,160.1]\n",
        "bio_data=\"my name is {} and my  \""
      ],
      "metadata": {
        "colab": {
          "base_uri": "https://localhost:8080/"
        },
        "id": "xAeveWBx-3mS",
        "outputId": "300da2a9-3342-4af7-e4ae-8073a76be539"
      },
      "execution_count": 2,
      "outputs": [
        {
          "output_type": "execute_result",
          "data": {
            "text/plain": [
              "['mahaboob', 'buji', 21, 160.1]"
            ]
          },
          "metadata": {},
          "execution_count": 2
        }
      ]
    },
    {
      "cell_type": "code",
      "source": [
        "l=[12,19,14,12,17,11]\n",
        "l.sort()\n",
        "l"
      ],
      "metadata": {
        "colab": {
          "base_uri": "https://localhost:8080/"
        },
        "id": "Zg-gvP_7cy-O",
        "outputId": "d71ab9d8-1390-4841-cb08-e8fcf83c8fb6"
      },
      "execution_count": null,
      "outputs": [
        {
          "output_type": "execute_result",
          "data": {
            "text/plain": [
              "[11, 12, 12, 14, 17, 19]"
            ]
          },
          "metadata": {},
          "execution_count": 81
        }
      ]
    },
    {
      "cell_type": "code",
      "source": [
        "l.sort(reverse=True)\n",
        "l"
      ],
      "metadata": {
        "colab": {
          "base_uri": "https://localhost:8080/"
        },
        "id": "-ROlN-RfczFx",
        "outputId": "a4c161cf-5c69-427f-8323-348f103cea34"
      },
      "execution_count": null,
      "outputs": [
        {
          "output_type": "execute_result",
          "data": {
            "text/plain": [
              "[19, 17, 14, 12, 12, 11]"
            ]
          },
          "metadata": {},
          "execution_count": 86
        }
      ]
    },
    {
      "cell_type": "code",
      "source": [
        "l=[1,3,4,5,4,4,223,33,\"mahaboob\"]\n",
        "l.reverse()\n",
        "l"
      ],
      "metadata": {
        "colab": {
          "base_uri": "https://localhost:8080/"
        },
        "id": "3_NDrEHjczPE",
        "outputId": "8a7847fc-dfad-44f6-e2f2-17889b1c498c"
      },
      "execution_count": null,
      "outputs": [
        {
          "output_type": "execute_result",
          "data": {
            "text/plain": [
              "['mahaboob', 33, 223, 4, 4, 5, 4, 3, 1]"
            ]
          },
          "metadata": {},
          "execution_count": 98
        }
      ]
    },
    {
      "cell_type": "code",
      "source": [
        "l=[1,3,4,5,4,4,223,33,\"mahaboob\",1,3]\n",
        "l.count(4)"
      ],
      "metadata": {
        "colab": {
          "base_uri": "https://localhost:8080/"
        },
        "id": "r9-YWl4_czYH",
        "outputId": "f61bac52-8603-4cc5-ea0e-23f13cf32be1"
      },
      "execution_count": null,
      "outputs": [
        {
          "output_type": "execute_result",
          "data": {
            "text/plain": [
              "3"
            ]
          },
          "metadata": {},
          "execution_count": 99
        }
      ]
    },
    {
      "cell_type": "code",
      "source": [
        "l.index(4)"
      ],
      "metadata": {
        "colab": {
          "base_uri": "https://localhost:8080/"
        },
        "id": "_Vyy6KohDSCS",
        "outputId": "6df7cc05-0b40-47b5-a990-af7f9602ec92"
      },
      "execution_count": null,
      "outputs": [
        {
          "output_type": "execute_result",
          "data": {
            "text/plain": [
              "2"
            ]
          },
          "metadata": {},
          "execution_count": 102
        }
      ]
    },
    {
      "cell_type": "code",
      "source": [
        "l.index(\"mahaboob\")"
      ],
      "metadata": {
        "colab": {
          "base_uri": "https://localhost:8080/"
        },
        "id": "XwLLXiCADSIz",
        "outputId": "60c87ce6-2659-42c6-d1a7-07ac5082cba6"
      },
      "execution_count": null,
      "outputs": [
        {
          "output_type": "execute_result",
          "data": {
            "text/plain": [
              "8"
            ]
          },
          "metadata": {},
          "execution_count": 108
        }
      ]
    },
    {
      "cell_type": "code",
      "source": [
        "x=[1,2,3,4]+[5,6,7,8]+[\"buji\",\"hi\"]\n",
        "x"
      ],
      "metadata": {
        "colab": {
          "base_uri": "https://localhost:8080/"
        },
        "id": "B4f01wioDSQx",
        "outputId": "b434f0c9-801e-42db-8ac8-ec3a401accc8"
      },
      "execution_count": null,
      "outputs": [
        {
          "output_type": "execute_result",
          "data": {
            "text/plain": [
              "[1, 2, 3, 4, 5, 6, 7, 8, 'buji', 'hi']"
            ]
          },
          "metadata": {},
          "execution_count": 109
        }
      ]
    },
    {
      "cell_type": "code",
      "source": [
        "y=[1,2,3,4]*3\n",
        "y"
      ],
      "metadata": {
        "colab": {
          "base_uri": "https://localhost:8080/"
        },
        "id": "C134DwL8DSYx",
        "outputId": "d003b62d-5270-45e0-f223-360e5d239d5c"
      },
      "execution_count": null,
      "outputs": [
        {
          "output_type": "execute_result",
          "data": {
            "text/plain": [
              "[1, 2, 3, 4, 1, 2, 3, 4, 1, 2, 3, 4]"
            ]
          },
          "metadata": {},
          "execution_count": 111
        }
      ]
    },
    {
      "cell_type": "code",
      "source": [
        "#tuple\n",
        "#properties of tuple\n",
        "#tuple is a collection datatype and sequential datatype\n",
        "#every element have an index value\n",
        "#tuple is ordered\n",
        "#we can use colletion datatype\n",
        "#tuple are immutable"
      ],
      "metadata": {
        "id": "NOjbNC3uDSfH"
      },
      "execution_count": null,
      "outputs": []
    },
    {
      "cell_type": "code",
      "source": [
        "t=(1,2,3,4)\n",
        "type(t)"
      ],
      "metadata": {
        "id": "lwJUZ8qKDSi2",
        "colab": {
          "base_uri": "https://localhost:8080/"
        },
        "outputId": "38837574-3a1d-4719-c6ee-05f97d26c097"
      },
      "execution_count": null,
      "outputs": [
        {
          "output_type": "execute_result",
          "data": {
            "text/plain": [
              "tuple"
            ]
          },
          "metadata": {},
          "execution_count": 2
        }
      ]
    },
    {
      "cell_type": "code",
      "source": [
        "r=tuple((1,\"buji\",1.1,1+2j))\n",
        "type(r)"
      ],
      "metadata": {
        "id": "Te8D1op_DSnA",
        "colab": {
          "base_uri": "https://localhost:8080/"
        },
        "outputId": "94e62692-912c-4184-98f7-9fa1242fced0"
      },
      "execution_count": null,
      "outputs": [
        {
          "output_type": "execute_result",
          "data": {
            "text/plain": [
              "tuple"
            ]
          },
          "metadata": {},
          "execution_count": 5
        }
      ]
    },
    {
      "cell_type": "code",
      "source": [
        "r[1 ]"
      ],
      "metadata": {
        "colab": {
          "base_uri": "https://localhost:8080/",
          "height": 36
        },
        "id": "08EbUQr3ohwj",
        "outputId": "885f2c78-1ac2-4112-f64a-3f161bd46fc8"
      },
      "execution_count": null,
      "outputs": [
        {
          "output_type": "execute_result",
          "data": {
            "text/plain": [
              "'buji'"
            ],
            "application/vnd.google.colaboratory.intrinsic+json": {
              "type": "string"
            }
          },
          "metadata": {},
          "execution_count": 7
        }
      ]
    },
    {
      "cell_type": "code",
      "source": [
        "#tuple method\n",
        "#count ,index\n",
        "#packing and unpacking\n",
        "x=(1,2,3,41.1,\"buji\")\n"
      ],
      "metadata": {
        "id": "XXSakD6xDSrl"
      },
      "execution_count": null,
      "outputs": []
    },
    {
      "cell_type": "code",
      "source": [
        "   w,e,r,u,t=x\n",
        "   t"
      ],
      "metadata": {
        "colab": {
          "base_uri": "https://localhost:8080/",
          "height": 36
        },
        "id": "rxxnGknT-JlN",
        "outputId": "24946cb2-99a3-45d7-a0a6-b8760b3f5622"
      },
      "execution_count": null,
      "outputs": [
        {
          "output_type": "execute_result",
          "data": {
            "text/plain": [
              "'buji'"
            ],
            "application/vnd.google.colaboratory.intrinsic+json": {
              "type": "string"
            }
          },
          "metadata": {},
          "execution_count": 12
        }
      ]
    },
    {
      "cell_type": "code",
      "source": [
        "y=(1,2,3,41.1,\"buji\")\n",
        "a,*b=y\n",
        "b"
      ],
      "metadata": {
        "colab": {
          "base_uri": "https://localhost:8080/"
        },
        "id": "ZhnCt9rx-Jr-",
        "outputId": "33601efe-e103-4b8f-b38d-7c402b96564b"
      },
      "execution_count": null,
      "outputs": [
        {
          "output_type": "execute_result",
          "data": {
            "text/plain": [
              "[2, 3, 41.1, 'buji']"
            ]
          },
          "metadata": {},
          "execution_count": 14
        }
      ]
    },
    {
      "cell_type": "code",
      "source": [
        "#sets\n",
        "#set is a collection data type and it is a sequentiql data\n"
      ],
      "metadata": {
        "id": "S6C8ZQQQ-Jxf"
      },
      "execution_count": null,
      "outputs": []
    },
    {
      "cell_type": "code",
      "source": [
        "x={1,2,3,4,5}\n",
        "type(x)"
      ],
      "metadata": {
        "colab": {
          "base_uri": "https://localhost:8080/"
        },
        "id": "hQ1wNjHA-J3p",
        "outputId": "cf43afe7-67c2-4fbd-fcb2-ca80ca7cda33"
      },
      "execution_count": null,
      "outputs": [
        {
          "output_type": "execute_result",
          "data": {
            "text/plain": [
              "set"
            ]
          },
          "metadata": {},
          "execution_count": 1
        }
      ]
    },
    {
      "cell_type": "code",
      "source": [
        "y=set((1,2,3,4,5))"
      ],
      "metadata": {
        "id": "3EyMKLVl-J7-"
      },
      "execution_count": null,
      "outputs": []
    },
    {
      "cell_type": "code",
      "source": [
        "len(y)"
      ],
      "metadata": {
        "colab": {
          "base_uri": "https://localhost:8080/"
        },
        "id": "Jip0imOi-KAt",
        "outputId": "5567ccb6-d798-4a5e-8a00-4f72edc219af"
      },
      "execution_count": null,
      "outputs": [
        {
          "output_type": "execute_result",
          "data": {
            "text/plain": [
              "5"
            ]
          },
          "metadata": {},
          "execution_count": 4
        }
      ]
    },
    {
      "cell_type": "code",
      "source": [
        "x.add(\"python\")\n",
        "x"
      ],
      "metadata": {
        "colab": {
          "base_uri": "https://localhost:8080/"
        },
        "id": "rVWtLcEw-KD3",
        "outputId": "4f96bade-72a4-46e3-fc9e-424b05bd29d2"
      },
      "execution_count": null,
      "outputs": [
        {
          "output_type": "execute_result",
          "data": {
            "text/plain": [
              "{1, 2, 3, 4, 5, 'python'}"
            ]
          },
          "metadata": {},
          "execution_count": 6
        }
      ]
    },
    {
      "cell_type": "code",
      "source": [
        "x.add(1+2j)\n",
        "x"
      ],
      "metadata": {
        "colab": {
          "base_uri": "https://localhost:8080/"
        },
        "id": "WoePEtRGdeA7",
        "outputId": "b63b29c6-a121-4e2c-86e7-f1d531e25a49"
      },
      "execution_count": null,
      "outputs": [
        {
          "output_type": "execute_result",
          "data": {
            "text/plain": [
              "{(1+2j), 1, 2, 3, 4, 5, 'python'}"
            ]
          },
          "metadata": {},
          "execution_count": 7
        }
      ]
    },
    {
      "cell_type": "code",
      "source": [
        "x.update((12,13,14,11))\n",
        "x"
      ],
      "metadata": {
        "colab": {
          "base_uri": "https://localhost:8080/"
        },
        "id": "WKRxKob1deI1",
        "outputId": "ee652f75-3029-4d68-9440-8fa2caed5c86"
      },
      "execution_count": null,
      "outputs": [
        {
          "output_type": "execute_result",
          "data": {
            "text/plain": [
              "{(1+2j), 1, 11, 12, 13, 14, 2, 3, 4, 5, 'python'}"
            ]
          },
          "metadata": {},
          "execution_count": 9
        }
      ]
    },
    {
      "cell_type": "code",
      "source": [
        "x.update(\"123\")\n",
        "x"
      ],
      "metadata": {
        "colab": {
          "base_uri": "https://localhost:8080/"
        },
        "id": "vFrSwFN3deQX",
        "outputId": "f182117a-94e4-4e9a-d747-86430943893b"
      },
      "execution_count": null,
      "outputs": [
        {
          "output_type": "execute_result",
          "data": {
            "text/plain": [
              "{(1+2j), 1, '1', 11, 12, 13, 14, 2, '2', 3, '3', 4, 5, 'python'}"
            ]
          },
          "metadata": {},
          "execution_count": 11
        }
      ]
    },
    {
      "cell_type": "code",
      "source": [
        "x.update({\"buji\",\"tony\"})\n",
        "x"
      ],
      "metadata": {
        "colab": {
          "base_uri": "https://localhost:8080/"
        },
        "id": "LhxLaEk7elkZ",
        "outputId": "80e9ae3e-8a30-42bd-f866-19a242137256"
      },
      "execution_count": null,
      "outputs": [
        {
          "output_type": "execute_result",
          "data": {
            "text/plain": [
              "{(1+2j),\n",
              " 1,\n",
              " '1',\n",
              " 11,\n",
              " 12,\n",
              " 13,\n",
              " 14,\n",
              " 2,\n",
              " '2',\n",
              " 3,\n",
              " '3',\n",
              " 4,\n",
              " 5,\n",
              " 'buji',\n",
              " 'python',\n",
              " 'tony'}"
            ]
          },
          "metadata": {},
          "execution_count": 13
        }
      ]
    },
    {
      "cell_type": "code",
      "source": [
        "x={1,2,3,4,5,11.0}\n",
        "x.remove(11.0)\n",
        "x"
      ],
      "metadata": {
        "colab": {
          "base_uri": "https://localhost:8080/"
        },
        "id": "XAPgVh3zeirj",
        "outputId": "bd4bf830-3f3d-4717-ae80-6fbc23540de8"
      },
      "execution_count": null,
      "outputs": [
        {
          "output_type": "execute_result",
          "data": {
            "text/plain": [
              "{1, 2, 3, 4, 5}"
            ]
          },
          "metadata": {},
          "execution_count": 14
        }
      ]
    },
    {
      "cell_type": "code",
      "source": [
        "#removing methods\n",
        "x.remove(\"a\")"
      ],
      "metadata": {
        "colab": {
          "base_uri": "https://localhost:8080/",
          "height": 141
        },
        "id": "FqOWIv8oejqm",
        "outputId": "625e44d4-dce8-40e4-ba01-ccc501869c24"
      },
      "execution_count": null,
      "outputs": [
        {
          "output_type": "error",
          "ename": "KeyError",
          "evalue": "'a'",
          "traceback": [
            "\u001b[0;31m---------------------------------------------------------------------------\u001b[0m",
            "\u001b[0;31mKeyError\u001b[0m                                  Traceback (most recent call last)",
            "\u001b[0;32m<ipython-input-17-1d4dfe192819>\u001b[0m in \u001b[0;36m<cell line: 1>\u001b[0;34m()\u001b[0m\n\u001b[0;32m----> 1\u001b[0;31m \u001b[0mx\u001b[0m\u001b[0;34m.\u001b[0m\u001b[0mremove\u001b[0m\u001b[0;34m(\u001b[0m\u001b[0;34m\"a\"\u001b[0m\u001b[0;34m)\u001b[0m\u001b[0;34m\u001b[0m\u001b[0;34m\u001b[0m\u001b[0m\n\u001b[0m",
            "\u001b[0;31mKeyError\u001b[0m: 'a'"
          ]
        }
      ]
    },
    {
      "cell_type": "code",
      "source": [
        "x.discard(\"a\")#dicard will not give error if element is not present\n"
      ],
      "metadata": {
        "id": "koRUfSjohWjc"
      },
      "execution_count": null,
      "outputs": []
    },
    {
      "cell_type": "code",
      "source": [
        "#pop()\n",
        "#removing the element from a set at that particular time the last element will be removed"
      ],
      "metadata": {
        "id": "hXPrrHBlh0tj"
      },
      "execution_count": null,
      "outputs": []
    },
    {
      "cell_type": "code",
      "source": [
        "#clear\n",
        "#"
      ],
      "metadata": {
        "id": "I-P5WPblh2Sw"
      },
      "execution_count": null,
      "outputs": []
    },
    {
      "cell_type": "code",
      "source": [
        "#we dont have any\n",
        "s={}\n",
        "print(type(s))\n",
        "x=set()\n",
        "type(x)\n"
      ],
      "metadata": {
        "colab": {
          "base_uri": "https://localhost:8080/"
        },
        "id": "cuHmxrGnh2c3",
        "outputId": "38cfb435-fd22-41d3-8b80-395a44b3e20a"
      },
      "execution_count": null,
      "outputs": [
        {
          "output_type": "stream",
          "name": "stdout",
          "text": [
            "<class 'dict'>\n"
          ]
        },
        {
          "output_type": "execute_result",
          "data": {
            "text/plain": [
              "set"
            ]
          },
          "metadata": {},
          "execution_count": 21
        }
      ]
    },
    {
      "cell_type": "code",
      "source": [
        "s1={1,2,3,\"a\"}\n",
        "s2={\"a\",2,11,13}\n",
        "s1.union(s2)"
      ],
      "metadata": {
        "colab": {
          "base_uri": "https://localhost:8080/"
        },
        "id": "yfZLfPNSh2ng",
        "outputId": "b2fff18c-b3ef-4ae8-e362-afc9bfc9fe5e"
      },
      "execution_count": null,
      "outputs": [
        {
          "output_type": "execute_result",
          "data": {
            "text/plain": [
              "{1, 11, 13, 2, 3, 'a'}"
            ]
          },
          "metadata": {},
          "execution_count": 30
        }
      ]
    },
    {
      "cell_type": "code",
      "source": [
        "s1.symmetric_difference(s2)\n",
        "s1"
      ],
      "metadata": {
        "colab": {
          "base_uri": "https://localhost:8080/"
        },
        "id": "XOoI0gIgh3Ew",
        "outputId": "c2e8cb50-25fb-48a8-aa06-f1a11f07f7d2"
      },
      "execution_count": null,
      "outputs": [
        {
          "output_type": "execute_result",
          "data": {
            "text/plain": [
              "{1, 2, 3, 'a'}"
            ]
          },
          "metadata": {},
          "execution_count": 31
        }
      ]
    },
    {
      "cell_type": "code",
      "source": [
        "s1.symmetric_difference_update(s2)\n",
        "s1"
      ],
      "metadata": {
        "colab": {
          "base_uri": "https://localhost:8080/"
        },
        "id": "OdKNdDj0h3NM",
        "outputId": "9f33c92f-e8c1-4902-b13f-a05e6ec7c403"
      },
      "execution_count": null,
      "outputs": [
        {
          "output_type": "execute_result",
          "data": {
            "text/plain": [
              "{1, 3, 11, 13}"
            ]
          },
          "metadata": {},
          "execution_count": 33
        }
      ]
    },
    {
      "cell_type": "code",
      "source": [
        "s1={1,2,3,4,5}\n",
        "s2={}"
      ],
      "metadata": {
        "id": "PVwiH6m7bEDM"
      },
      "execution_count": null,
      "outputs": []
    },
    {
      "cell_type": "code",
      "source": [
        "for i in range(1,5):\n",
        "  for y in range(1,5):\n",
        "    print(y,end=\"\")\n",
        "  print()"
      ],
      "metadata": {
        "colab": {
          "base_uri": "https://localhost:8080/"
        },
        "id": "3ElNkz6QbEMY",
        "outputId": "126c8150-8332-4166-b0a9-182e7ccf985b"
      },
      "execution_count": null,
      "outputs": [
        {
          "output_type": "stream",
          "name": "stdout",
          "text": [
            "1234\n",
            "1234\n",
            "1234\n",
            "1234\n"
          ]
        }
      ]
    },
    {
      "cell_type": "code",
      "source": [
        "#dictionaries\n",
        "#collections of keys and values\n",
        "#dict are ordered\n",
        "# dict are mutable\n",
        "# DICT DOES NOT HAVE SLICING\n",
        "X={1:1,2:2,3:3}\n",
        "X"
      ],
      "metadata": {
        "id": "vU-5rU8VbEV5",
        "colab": {
          "base_uri": "https://localhost:8080/"
        },
        "outputId": "85f7ae0d-588f-455f-90d6-7cc721a37ea5"
      },
      "execution_count": null,
      "outputs": [
        {
          "output_type": "execute_result",
          "data": {
            "text/plain": [
              "{1: 1, 2: 2, 3: 3}"
            ]
          },
          "metadata": {},
          "execution_count": 5
        }
      ]
    },
    {
      "cell_type": "code",
      "source": [
        "type(X)"
      ],
      "metadata": {
        "id": "YwErGfc4bEfI",
        "colab": {
          "base_uri": "https://localhost:8080/"
        },
        "outputId": "2e7f9d23-a448-41a5-d31f-002ab054fb9f"
      },
      "execution_count": null,
      "outputs": [
        {
          "output_type": "execute_result",
          "data": {
            "text/plain": [
              "dict"
            ]
          },
          "metadata": {},
          "execution_count": 4
        }
      ]
    },
    {
      "cell_type": "code",
      "source": [
        "X[1]=100\n",
        "X\n"
      ],
      "metadata": {
        "id": "B24I19MAbEn5",
        "colab": {
          "base_uri": "https://localhost:8080/"
        },
        "outputId": "0d34e590-fb36-438b-8d27-9b041e36d286"
      },
      "execution_count": null,
      "outputs": [
        {
          "output_type": "execute_result",
          "data": {
            "text/plain": [
              "{1: 100, 2: 2, 3: 3}"
            ]
          },
          "metadata": {},
          "execution_count": 7
        }
      ]
    },
    {
      "cell_type": "code",
      "source": [
        "X[4]=\"MAHABOOB\"\n",
        "X"
      ],
      "metadata": {
        "id": "eMpnDDZFbEww",
        "colab": {
          "base_uri": "https://localhost:8080/"
        },
        "outputId": "431b2799-5bd9-4251-8e3e-d9b37c342b76"
      },
      "execution_count": null,
      "outputs": [
        {
          "output_type": "execute_result",
          "data": {
            "text/plain": [
              "{1: 100, 2: 2, 3: 3, 4: 'MAHABOOB'}"
            ]
          },
          "metadata": {},
          "execution_count": 9
        }
      ]
    },
    {
      "cell_type": "code",
      "source": [
        "X.keys()"
      ],
      "metadata": {
        "id": "cjN2A0A-bE6T",
        "colab": {
          "base_uri": "https://localhost:8080/"
        },
        "outputId": "999118ad-5f85-42c3-ba57-fd66aca746ef"
      },
      "execution_count": null,
      "outputs": [
        {
          "output_type": "execute_result",
          "data": {
            "text/plain": [
              "dict_keys([1, 2, 3, 4])"
            ]
          },
          "metadata": {},
          "execution_count": 10
        }
      ]
    },
    {
      "cell_type": "code",
      "source": [
        "x={\"a\":100,\"b\":200,\"c\":300}"
      ],
      "metadata": {
        "id": "PwWprG4FbFDN"
      },
      "execution_count": null,
      "outputs": []
    },
    {
      "cell_type": "code",
      "source": [
        "x[4]=400\n",
        "x"
      ],
      "metadata": {
        "colab": {
          "base_uri": "https://localhost:8080/"
        },
        "id": "WTIsVWrjq2FJ",
        "outputId": "8037206c-493b-457d-b1a1-c10b45302f7e"
      },
      "execution_count": null,
      "outputs": [
        {
          "output_type": "execute_result",
          "data": {
            "text/plain": [
              "{'a': 100, 'b': 200, 'c': 300, 4: 400}"
            ]
          },
          "metadata": {},
          "execution_count": 13
        }
      ]
    },
    {
      "cell_type": "code",
      "source": [
        "x[\"a\"]=\"buji\"\n",
        "x"
      ],
      "metadata": {
        "id": "DE3oa8rubFca",
        "colab": {
          "base_uri": "https://localhost:8080/"
        },
        "outputId": "f99674c6-6443-4750-9a9e-68f96db8005f"
      },
      "execution_count": null,
      "outputs": [
        {
          "output_type": "execute_result",
          "data": {
            "text/plain": [
              "{'a': 'buji', 'b': 200, 'c': 300, 4: 400}"
            ]
          },
          "metadata": {},
          "execution_count": 14
        }
      ]
    },
    {
      "cell_type": "code",
      "source": [
        "x[\"name\"]=\"mahaboob\"\n",
        "x"
      ],
      "metadata": {
        "id": "QzCWCK8pbFlR",
        "colab": {
          "base_uri": "https://localhost:8080/"
        },
        "outputId": "594cd566-70de-42e1-bad3-bef17fb3aaaf"
      },
      "execution_count": null,
      "outputs": [
        {
          "output_type": "execute_result",
          "data": {
            "text/plain": [
              "{'a': 'buji', 'b': 200, 'c': 300, 4: 400, 'name': 'mahaboob'}"
            ]
          },
          "metadata": {},
          "execution_count": 17
        }
      ]
    },
    {
      "cell_type": "code",
      "source": [
        "x.update({2:200,\"v\":\"avengers\",0:00})\n",
        "x"
      ],
      "metadata": {
        "colab": {
          "base_uri": "https://localhost:8080/"
        },
        "id": "jpP4tV36rYfq",
        "outputId": "5f843742-ee10-4d50-90d3-91e0a3f1de76"
      },
      "execution_count": null,
      "outputs": [
        {
          "output_type": "execute_result",
          "data": {
            "text/plain": [
              "{'a': 'buji',\n",
              " 'b': 200,\n",
              " 'c': 300,\n",
              " 4: 400,\n",
              " 'name': 'mahaboob',\n",
              " 2: 200,\n",
              " 'v': 'avengers',\n",
              " 0: 0}"
            ]
          },
          "metadata": {},
          "execution_count": 19
        }
      ]
    },
    {
      "cell_type": "code",
      "source": [
        " del X[2]"
      ],
      "metadata": {
        "id": "FuSWYJNzrYns"
      },
      "execution_count": null,
      "outputs": []
    },
    {
      "cell_type": "code",
      "source": [
        "X"
      ],
      "metadata": {
        "colab": {
          "base_uri": "https://localhost:8080/"
        },
        "id": "O0WdIlTArYuz",
        "outputId": "839d54a8-29d0-4bdf-ded1-8baaf28405cf"
      },
      "execution_count": null,
      "outputs": [
        {
          "output_type": "execute_result",
          "data": {
            "text/plain": [
              "{1: 100, 3: 3, 4: 'MAHABOOB'}"
            ]
          },
          "metadata": {},
          "execution_count": 22
        }
      ]
    },
    {
      "cell_type": "code",
      "source": [
        "X.pop(3)\n",
        "X"
      ],
      "metadata": {
        "colab": {
          "base_uri": "https://localhost:8080/"
        },
        "id": "t4BaREhBrY3U",
        "outputId": "91367bb7-cbd7-4343-9685-2ea27d307769"
      },
      "execution_count": null,
      "outputs": [
        {
          "output_type": "execute_result",
          "data": {
            "text/plain": [
              "{1: 100, 4: 'MAHABOOB'}"
            ]
          },
          "metadata": {},
          "execution_count": 23
        }
      ]
    },
    {
      "cell_type": "code",
      "source": [
        "X.clear()\n",
        "X"
      ],
      "metadata": {
        "colab": {
          "base_uri": "https://localhost:8080/"
        },
        "id": "rnZ8P2VvrY_Z",
        "outputId": "d8d44f5d-8144-4c97-c348-8479cd59b9f2"
      },
      "execution_count": null,
      "outputs": [
        {
          "output_type": "execute_result",
          "data": {
            "text/plain": [
              "{}"
            ]
          },
          "metadata": {},
          "execution_count": 24
        }
      ]
    },
    {
      "cell_type": "code",
      "source": [
        "bio={1:\"mahaboob\",2:20,3:\"male\",4:\"india\"}"
      ],
      "metadata": {
        "id": "R61Y35HSraTQ"
      },
      "execution_count": null,
      "outputs": []
    },
    {
      "cell_type": "code",
      "source": [
        "for y in bio:\n",
        "  print(bio[y])"
      ],
      "metadata": {
        "colab": {
          "base_uri": "https://localhost:8080/"
        },
        "id": "IKf4x4V2rai9",
        "outputId": "8a60d42a-4054-4313-eb30-015df6d5ed26"
      },
      "execution_count": null,
      "outputs": [
        {
          "output_type": "stream",
          "name": "stdout",
          "text": [
            "mahaboob\n",
            "20\n",
            "male\n",
            "india\n"
          ]
        }
      ]
    },
    {
      "cell_type": "code",
      "source": [
        "y={1:{2:{3:4},5:100}}\n",
        "y"
      ],
      "metadata": {
        "colab": {
          "base_uri": "https://localhost:8080/"
        },
        "id": "K3IlnqqRraro",
        "outputId": "9099b8c9-85ef-47ea-fa7e-359a54d55125"
      },
      "execution_count": null,
      "outputs": [
        {
          "output_type": "execute_result",
          "data": {
            "text/plain": [
              "{1: {2: {3: 4}, 5: 100}}"
            ]
          },
          "metadata": {},
          "execution_count": 45
        }
      ]
    },
    {
      "cell_type": "code",
      "source": [
        "y[1][5]"
      ],
      "metadata": {
        "colab": {
          "base_uri": "https://localhost:8080/"
        },
        "id": "U9HFumjkrayj",
        "outputId": "e57e9d8b-a41d-4e54-ac74-5c939035e60c"
      },
      "execution_count": null,
      "outputs": [
        {
          "output_type": "execute_result",
          "data": {
            "text/plain": [
              "100"
            ]
          },
          "metadata": {},
          "execution_count": 46
        }
      ]
    },
    {
      "cell_type": "code",
      "source": [],
      "metadata": {
        "id": "H8AgVYdoy2iw"
      },
      "execution_count": null,
      "outputs": []
    },
    {
      "cell_type": "code",
      "source": [],
      "metadata": {
        "id": "Es-EKnb2y2pe"
      },
      "execution_count": null,
      "outputs": []
    },
    {
      "cell_type": "code",
      "source": [],
      "metadata": {
        "id": "vgGxes7ry3vo"
      },
      "execution_count": null,
      "outputs": []
    },
    {
      "cell_type": "code",
      "source": [],
      "metadata": {
        "id": "BlH92Zudy33G"
      },
      "execution_count": null,
      "outputs": []
    },
    {
      "cell_type": "code",
      "source": [],
      "metadata": {
        "id": "0Y3gDdbMy3-g"
      },
      "execution_count": null,
      "outputs": []
    },
    {
      "cell_type": "code",
      "source": [],
      "metadata": {
        "id": "R6NyzvEUy5HB"
      },
      "execution_count": null,
      "outputs": []
    },
    {
      "cell_type": "code",
      "source": [],
      "metadata": {
        "id": "F-5giDEyy5OM"
      },
      "execution_count": null,
      "outputs": []
    },
    {
      "cell_type": "code",
      "source": [],
      "metadata": {
        "id": "ds0YenEWy5dk"
      },
      "execution_count": null,
      "outputs": []
    }
  ]
}