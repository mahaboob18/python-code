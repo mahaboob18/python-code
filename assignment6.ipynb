{
  "nbformat": 4,
  "nbformat_minor": 0,
  "metadata": {
    "colab": {
      "provenance": []
    },
    "kernelspec": {
      "name": "python3",
      "display_name": "Python 3"
    },
    "language_info": {
      "name": "python"
    }
  },
  "cells": [
    {
      "cell_type": "code",
      "source": [
        "#1 Write a Python program to loop through all the elements in a list\n",
        "L1=[1,2,3,4,5,6]\n",
        "for i in L1:\n",
        "  print(i)"
      ],
      "metadata": {
        "colab": {
          "base_uri": "https://localhost:8080/"
        },
        "id": "lNLOsJFBvpYU",
        "outputId": "d0a2e4ca-a083-46b5-bd0e-4eaf02eb4524"
      },
      "execution_count": 1,
      "outputs": [
        {
          "output_type": "stream",
          "name": "stdout",
          "text": [
            "1\n",
            "2\n",
            "3\n",
            "4\n",
            "5\n",
            "6\n"
          ]
        }
      ]
    },
    {
      "cell_type": "code",
      "source": [
        "#2 Write a Python program where you will ask the users to insert elements in a list\n",
        "x=[]\n",
        "y=0\n",
        "for z in range(6):\n",
        "  insert=input(\"enter insert element :\")\n",
        "  x.insert(z,insert)\n",
        "print(\"inserted elements in a list :\",x)\n"
      ],
      "metadata": {
        "id": "G_GkYEkZH9EY",
        "colab": {
          "base_uri": "https://localhost:8080/"
        },
        "outputId": "212bb597-a3e6-4c0c-fa5e-6b60a13cea58"
      },
      "execution_count": 2,
      "outputs": [
        {
          "output_type": "stream",
          "name": "stdout",
          "text": [
            "enter insert element :mahaboob\n",
            "enter insert element :99.99\n",
            "enter insert element :100\n",
            "enter insert element :1+99j\n",
            "enter insert element :ABDEVILLIERS\n",
            "enter insert element :RCB\n",
            "inserted elements in a list : ['mahaboob', '99.99', '100', '1+99j', 'ABDEVILLIERS', 'RCB']\n"
          ]
        }
      ]
    },
    {
      "cell_type": "code",
      "source": [
        "#3 Write a Python program to remove all the odd index value from a list and only evenindex elements should remain\n",
        "x=[1,2,3,4,5,6,7,\"a\"]\n",
        "z=[]\n",
        "for x in range(0,len(x)) :\n",
        "    if x%2==0:\n",
        "     z.append(x)\n",
        "print(\"the list contain only even index elements :\",z)\n"
      ],
      "metadata": {
        "colab": {
          "base_uri": "https://localhost:8080/"
        },
        "id": "hDUsxrfDJhU7",
        "outputId": "ae7b803b-f167-4ac0-866f-932594cddbc8"
      },
      "execution_count": 3,
      "outputs": [
        {
          "output_type": "stream",
          "name": "stdout",
          "text": [
            "the list contain only even index elements : [0, 2, 4, 6]\n"
          ]
        }
      ]
    },
    {
      "cell_type": "code",
      "source": [
        "#4 Write a Python program to sum and multiply all the items in a list\n",
        "x=[10,20,30,40,50,60]\n",
        "sum=0\n",
        "prod=1\n",
        "for i in x:\n",
        "  sum=sum+i\n",
        "  prod=prod*i\n",
        "print(\"the total sum of the list\",sum)\n",
        "print(\"the total product of the list\",prod)"
      ],
      "metadata": {
        "colab": {
          "base_uri": "https://localhost:8080/"
        },
        "id": "Vw1-stsytEy7",
        "outputId": "14fc2fc3-b292-4ebd-f0da-e81618aec4bd"
      },
      "execution_count": 3,
      "outputs": [
        {
          "output_type": "stream",
          "name": "stdout",
          "text": [
            "the total sum of the list 210\n",
            "the total product of the list 720000000\n"
          ]
        }
      ]
    },
    {
      "cell_type": "code",
      "source": [
        "#5 Write a Python program to get the maximum and minimum numbers from a list\n",
        "lst=[2,34,90,22,99]\n",
        "lst.sort()\n",
        "print(\"the minimum number from  the give is :\",lst[0])\n",
        "lst.sort(reverse=True)\n",
        "print(\"the maximum number from  the give is :\",lst[0])"
      ],
      "metadata": {
        "colab": {
          "base_uri": "https://localhost:8080/"
        },
        "id": "f8sG2HKqRw8c",
        "outputId": "1fe5efcc-daaf-48e1-9526-4566a7189082"
      },
      "execution_count": 4,
      "outputs": [
        {
          "output_type": "stream",
          "name": "stdout",
          "text": [
            "the minimum number from  the give is : 2\n",
            "the maximum number from  the give is : 99\n"
          ]
        }
      ]
    },
    {
      "cell_type": "code",
      "source": [
        "#6 Write a Python program to print a specified list after removing the 0th, 4th and 5thelements.\n",
        "colurs=['Red', 'Green', 'White', 'Black', 'Pink', 'Yellow']\n",
        "colur=[]\n",
        "for y in range(0,len(colurs)):\n",
        "  if y!=0 and y!=4 and y!=5:\n",
        "    colur.append(colurs[y])\n",
        "print(x)"
      ],
      "metadata": {
        "id": "ssc_ymv9TyZg",
        "colab": {
          "base_uri": "https://localhost:8080/"
        },
        "outputId": "706ecb3e-3a48-4a67-e673-031a64f419bc"
      },
      "execution_count": 6,
      "outputs": [
        {
          "output_type": "stream",
          "name": "stdout",
          "text": [
            "['Green', 'White', 'Black']\n"
          ]
        }
      ]
    },
    {
      "cell_type": "code",
      "source": [
        "#7 Write a Python program to convert a list of characters into a string\n",
        "x=[\"m\",\"a\",\"h\",\"a\",\"b\",\"o\",\"o\",\"b\",4,9,2,\"b\",\"@\",\"g\",\"m\",\"a\",\"i\",\"l\",\"c\",\"o\",\"m\"]\n",
        "y=\"\"\n",
        "for i in x:\n",
        "  y=y+str(i)\n",
        "print(\"list of character into a string :\",y)\n"
      ],
      "metadata": {
        "colab": {
          "base_uri": "https://localhost:8080/"
        },
        "id": "tcjxti_Mx9kA",
        "outputId": "404aa190-5710-4766-d1bd-1b26b504e71f"
      },
      "execution_count": 7,
      "outputs": [
        {
          "output_type": "stream",
          "name": "stdout",
          "text": [
            "list of character into a string : mahaboob492b@gmailcom\n"
          ]
        }
      ]
    },
    {
      "cell_type": "code",
      "source": [
        "#8 Write a Python program to compute average of given lists.\n",
        "x=[10,20,30,40,50,60,70,80,90,100]\n",
        "sum=0\n",
        "avg=0\n",
        "for i in x:\n",
        "  sum=sum+i\n",
        "  avg=avg+1\n",
        "print(\"the compute average of the given list :\",sum/avg)"
      ],
      "metadata": {
        "id": "NeTDJ-lbx9qp",
        "colab": {
          "base_uri": "https://localhost:8080/"
        },
        "outputId": "933cdd82-3693-49b7-aaa2-e93a53fe8b0b"
      },
      "execution_count": 9,
      "outputs": [
        {
          "output_type": "stream",
          "name": "stdout",
          "text": [
            "the compute average of the given list : 55.0\n"
          ]
        }
      ]
    },
    {
      "cell_type": "code",
      "source": [
        "# 9. Write a Python program to count integer in a given mixed list.\n",
        "x=[\"m\",\"22\",\"35\",\"67\",\"89\",\"98\",\"1+2j:\",\"10.0\",\"maxy\",\"99\"]\n",
        "n=0#count of the integers\n",
        "j=0#index\n",
        "for i in range(0,len(x)):\n",
        "  g=x[j]\n",
        "  if g.isdigit():\n",
        "    n=n+1\n",
        "  j=j+1\n",
        "print(\"the total number of integers in given list is :\",n)"
      ],
      "metadata": {
        "id": "YIkUbfR_Tybe",
        "colab": {
          "base_uri": "https://localhost:8080/"
        },
        "outputId": "65168169-8254-4401-b396-0a7a513542f0"
      },
      "execution_count": 12,
      "outputs": [
        {
          "output_type": "stream",
          "name": "stdout",
          "text": [
            "the total number of integers in given list is : 6\n"
          ]
        }
      ]
    },
    {
      "cell_type": "code",
      "source": [
        "#10 Write a Python program to reverse the list\n",
        "x=[10,20,30,40,50,100,\"buji\",\"mahaboob\",1+2j,99.9]\n",
        "i=len(x)-1\n",
        "y=[]\n",
        "for j in x:\n",
        "  rvr=x[i]\n",
        "  y.append(rvr)\n",
        "  i=i-1\n",
        "print(\"reverse of the given list :\",y)"
      ],
      "metadata": {
        "id": "9lG3A6jZTyed",
        "colab": {
          "base_uri": "https://localhost:8080/"
        },
        "outputId": "c064220d-e3d5-4af6-a544-62abb574bfba"
      },
      "execution_count": 13,
      "outputs": [
        {
          "output_type": "stream",
          "name": "stdout",
          "text": [
            "reverse of the given list : [99.9, (1+2j), 'mahaboob', 'buji', 100, 50, 40, 30, 20, 10]\n"
          ]
        }
      ]
    },
    {
      "cell_type": "code",
      "source": [
        "#11 Write a Python program convert a given string to a tuple\n",
        "x=input(\"enter string :\")\n",
        "tp=tuple(x)\n",
        "print(\"converting given string in to a tuple :\",tp)"
      ],
      "metadata": {
        "colab": {
          "base_uri": "https://localhost:8080/"
        },
        "id": "DcV_tS4t-2dH",
        "outputId": "7a4d8036-b3e4-4167-f0d7-12a3e8ae0fea"
      },
      "execution_count": 14,
      "outputs": [
        {
          "output_type": "stream",
          "name": "stdout",
          "text": [
            "enter string :mahaboob2003@gmail.com\n",
            "converting given string in to a tuple : ('m', 'a', 'h', 'a', 'b', 'o', 'o', 'b', '2', '0', '0', '3', '@', 'g', 'm', 'a', 'i', 'l', '.', 'c', 'o', 'm')\n"
          ]
        }
      ]
    },
    {
      "cell_type": "code",
      "source": [
        "#12 How to create a list of squares of numbers from 1 to 5 using a list comprehension\n",
        "y=[]\n",
        "for i in range(1,6):\n",
        "  x=i**2\n",
        "  y.append(x)\n",
        "print(\"squares of the given list of 1 to 5 :\",y)"
      ],
      "metadata": {
        "id": "CEDx7dx2TyhZ",
        "colab": {
          "base_uri": "https://localhost:8080/"
        },
        "outputId": "a28b248b-b156-4a87-8b04-c117c40381c6"
      },
      "execution_count": 16,
      "outputs": [
        {
          "output_type": "stream",
          "name": "stdout",
          "text": [
            "squares of the given list of 1 to 5 : [1, 4, 9, 16, 25]\n"
          ]
        }
      ]
    },
    {
      "cell_type": "code",
      "source": [
        "#13 How to remove duplicates from a list without changing the order of elements?\n",
        "my_list=[2,3,4,1,9,8,3,4,1,0,7,26,9,8]\n",
        "unique_list=[]\n",
        "for x in my_list:\n",
        "   if x  not in unique_list:\n",
        "     unique_list.append(x)\n",
        "print(\"the unique_list does not have any duplicate value :\",unique_list)"
      ],
      "metadata": {
        "id": "5m55lx68TylA",
        "colab": {
          "base_uri": "https://localhost:8080/"
        },
        "outputId": "149c0c61-77d4-47f2-94db-1bf3eb4edf0f"
      },
      "execution_count": 17,
      "outputs": [
        {
          "output_type": "stream",
          "name": "stdout",
          "text": [
            "the unique_list does not have any duplicate value : [2, 3, 4, 1, 9, 8, 0, 7, 26]\n"
          ]
        }
      ]
    },
    {
      "cell_type": "code",
      "source": [
        "#14 How to find the intersection of two lists using list\n",
        "list1 = [1, 2, 3, 4, 5]\n",
        "list2 = [3, 4, 5, 6, 7]\n",
        "intersection=[ x for x in list1 if x  in list2 ]\n",
        "print(\"the common elements between two lists :\",intersection)"
      ],
      "metadata": {
        "colab": {
          "base_uri": "https://localhost:8080/"
        },
        "id": "mzQN0M2-jXUj",
        "outputId": "a88a1573-b3c4-42d7-d903-6cd7549ad5df"
      },
      "execution_count": 18,
      "outputs": [
        {
          "output_type": "stream",
          "name": "stdout",
          "text": [
            "the common elements between two lists : [3, 4, 5]\n"
          ]
        }
      ]
    },
    {
      "cell_type": "code",
      "source": [
        "#15 How to reverse the order of words in a sentence using a list\n",
        "sentence=\"hello how are you ?\"\n",
        "word=sentence.split()\n",
        "reversed_sentence=\" \".join(word[ : :-1])\n",
        "print(\"reverse of the given list :\",reversed_sentence)"
      ],
      "metadata": {
        "colab": {
          "base_uri": "https://localhost:8080/"
        },
        "id": "kFAWX9ZrjXeY",
        "outputId": "5ad9b0d0-1631-4bc9-e0c7-8f5f04255ed0"
      },
      "execution_count": 23,
      "outputs": [
        {
          "output_type": "stream",
          "name": "stdout",
          "text": [
            "reverse of the given list : ? you are how hello\n"
          ]
        }
      ]
    }
  ]
}