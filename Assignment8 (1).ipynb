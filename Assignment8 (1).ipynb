{
  "nbformat": 4,
  "nbformat_minor": 0,
  "metadata": {
    "colab": {
      "provenance": []
    },
    "kernelspec": {
      "name": "python3",
      "display_name": "Python 3"
    },
    "language_info": {
      "name": "python"
    }
  },
  "cells": [
    {
      "cell_type": "code",
      "execution_count": 32,
      "metadata": {
        "colab": {
          "base_uri": "https://localhost:8080/"
        },
        "id": "_1RJgo1u9zKk",
        "outputId": "8e9c2070-37d5-4b7f-a5e9-3b7cb6f34f4e"
      },
      "outputs": [
        {
          "output_type": "stream",
          "name": "stdout",
          "text": [
            "{'name': 'mahaboob', 'age': 19, 'city': 'hyderabad'}\n"
          ]
        }
      ],
      "source": [
        "#1 What is a dictionary in Python?\n",
        "#dictionaries are used to store the data in key:values pairs and it is a collection datatype\n",
        "my_dict={\"name\":\"mahaboob\",\"age\":19,\"city\":\"hyderabad\"}\n",
        "print(my_dict)"
      ]
    },
    {
      "cell_type": "code",
      "source": [
        "#2 How do you access values in a dictionary?\n",
        "print(my_dict[\"name\"])"
      ],
      "metadata": {
        "colab": {
          "base_uri": "https://localhost:8080/"
        },
        "id": "Ln-ugaveXJcB",
        "outputId": "608ec1c1-2509-45b4-c033-31e373790f72"
      },
      "execution_count": 33,
      "outputs": [
        {
          "output_type": "stream",
          "name": "stdout",
          "text": [
            "mahaboob\n"
          ]
        }
      ]
    },
    {
      "cell_type": "code",
      "source": [
        "#3 Can a dictionary have duplicate keys?\n",
        "my_dict = {'name': 'Alice', 'age': 30, 'name': 'Bob'}\n",
        "print(my_dict['name'])\n",
        "# keys cannot be duplicated only values can be duplicate if there is duplicate key then it gives the last occurance of that keyvalue above is the example for that"
      ],
      "metadata": {
        "colab": {
          "base_uri": "https://localhost:8080/"
        },
        "id": "a55A5lh-XJfC",
        "outputId": "22823df6-44c5-4dd0-95bd-7ff07de279f8"
      },
      "execution_count": 34,
      "outputs": [
        {
          "output_type": "stream",
          "name": "stdout",
          "text": [
            "Bob\n"
          ]
        }
      ]
    },
    {
      "cell_type": "code",
      "source": [
        "#4 How do you check if a key exists in a dictionary?\n",
        "key_to_check=\"age\"\n",
        "if key_to_check in my_dict:\n",
        "  print(f\"the element  {key_to_check} is exists in dictionaries\")"
      ],
      "metadata": {
        "colab": {
          "base_uri": "https://localhost:8080/"
        },
        "id": "qM_VqR8fXJhu",
        "outputId": "8a0ef03d-3c77-4df0-c202-ca20489d10f7"
      },
      "execution_count": 35,
      "outputs": [
        {
          "output_type": "stream",
          "name": "stdout",
          "text": [
            "the element  age is exists in dictionaries\n"
          ]
        }
      ]
    },
    {
      "cell_type": "code",
      "source": [
        "#5 How do you add a new key-value pair to a dictionary?\n",
        "my_dict[\"gender\"]=\"male\"\n",
        "print(my_dict)"
      ],
      "metadata": {
        "id": "3Fj_Tv4uXJk_",
        "colab": {
          "base_uri": "https://localhost:8080/"
        },
        "outputId": "e1e1da91-4da7-49a9-f272-2502a7d7e8e7"
      },
      "execution_count": 36,
      "outputs": [
        {
          "output_type": "stream",
          "name": "stdout",
          "text": [
            "{'name': 'Bob', 'age': 30, 'gender': 'male'}\n"
          ]
        }
      ]
    },
    {
      "cell_type": "code",
      "source": [
        "#6 How do you update the value of an existing key in a dictionary?\n",
        "my_dict[\"age\"]=22\n",
        "print(my_dict)"
      ],
      "metadata": {
        "id": "m4JE2kyWXJn0",
        "colab": {
          "base_uri": "https://localhost:8080/"
        },
        "outputId": "65a10d48-590f-477f-a617-2217cc62cad3"
      },
      "execution_count": 37,
      "outputs": [
        {
          "output_type": "stream",
          "name": "stdout",
          "text": [
            "{'name': 'Bob', 'age': 22, 'gender': 'male'}\n"
          ]
        }
      ]
    },
    {
      "cell_type": "code",
      "source": [
        "#7 Given a list of numbers, write a python program that returns a new list which Has all\n",
        "# duplicate elements removed. And is sorted in an increasing order.\n",
        "l=[2,1,3,4,2,3,3,2,7,9,8,7]\n",
        "x=set(l)\n",
        "l=list(x)\n",
        "print(\"the list without duplicate elements\\n\",l)"
      ],
      "metadata": {
        "id": "XuyAyqtGXJrN",
        "colab": {
          "base_uri": "https://localhost:8080/"
        },
        "outputId": "6f5c396d-982b-45ae-ea54-919e439f4c41"
      },
      "execution_count": 39,
      "outputs": [
        {
          "output_type": "stream",
          "name": "stdout",
          "text": [
            "the list without duplicate elements\n",
            " [1, 2, 3, 4, 7, 8, 9]\n"
          ]
        }
      ]
    },
    {
      "cell_type": "code",
      "source": [
        "data={\"name\":\"mahaboob\",\"age\":20,\"weight\":\"61kgs\",\"height\":165.2}"
      ],
      "metadata": {
        "id": "ssrSsgP2FEwV"
      },
      "execution_count": 14,
      "outputs": []
    },
    {
      "cell_type": "code",
      "source": [
        "#8 Write a Python program where you will iterate over both keys and values in dictionaries\n",
        "for keys,value in data.items():\n",
        "  print(f\"keys {keys},values {value}\")"
      ],
      "metadata": {
        "colab": {
          "base_uri": "https://localhost:8080/"
        },
        "id": "rtnyR_FoV6hW",
        "outputId": "93d6899f-e38c-4c59-b094-3a18c3aa5322"
      },
      "execution_count": 15,
      "outputs": [
        {
          "output_type": "stream",
          "name": "stdout",
          "text": [
            "keys name,values mahaboob\n",
            "keys age,values 20\n",
            "keys weight,values 61kgs\n",
            "keys height,values 165.2\n"
          ]
        }
      ]
    },
    {
      "cell_type": "code",
      "source": [
        "#9 Write a Python program that takes a dictionary of student names and returns a list ofstudent names in alphabetical order\n",
        "std={\"student 1\":\"mahaboob\",\"student 2\":\"buji\",\"student 3\":\"riya\",\"student 4\":\"christoper\"}\n",
        "s=sorted(std.values())\n",
        "print(\"sorted list names :\")\n",
        "print(list(s))"
      ],
      "metadata": {
        "colab": {
          "base_uri": "https://localhost:8080/"
        },
        "id": "WJqc4_qPHxP1",
        "outputId": "ef39947b-c14a-46de-b406-08e8df8e6113"
      },
      "execution_count": 16,
      "outputs": [
        {
          "output_type": "stream",
          "name": "stdout",
          "text": [
            "sorted list names :\n",
            "['buji', 'christoper', 'mahaboob', 'riya']\n"
          ]
        }
      ]
    },
    {
      "cell_type": "code",
      "source": [
        "#10 Write a Python which returns a new list of Booleans, from a given number. Iterating\n",
        "# through the number one digit at a time, append True if the digit is 1 and False if it is 0.\n",
        "x=\"010001\"\n",
        "bool_str=[]\n",
        "for digit in x:\n",
        "  if digit==\"1\":\n",
        "    bool_str.append(\"True\")\n",
        "  elif digit==\"0\":\n",
        "    bool_str.append(\"False\")\n",
        "print(bool_str)"
      ],
      "metadata": {
        "colab": {
          "base_uri": "https://localhost:8080/"
        },
        "id": "a-hqk5TJWy7G",
        "outputId": "c3d9cdf7-339a-4b66-8353-ee7a2f6744de"
      },
      "execution_count": 17,
      "outputs": [
        {
          "output_type": "stream",
          "name": "stdout",
          "text": [
            "['False', 'True', 'False', 'False', 'False', 'True']\n"
          ]
        }
      ]
    },
    {
      "cell_type": "code",
      "source": [
        "#11 Write a Python program where you will return a dictionary where the keys will be thecharacter and the values will be the occurrence of\n",
        "# the character in the string, and itshould for any string inputs (dynamic)\n",
        "#Ex:\n",
        "x=input(\"enter  keys :\")\n",
        "z={}\n",
        "for y in x:\n",
        "  if y in z:\n",
        "    z[y]=z[y]+1\n",
        "  else :\n",
        "    z[y]=1\n",
        "print(z)\n"
      ],
      "metadata": {
        "colab": {
          "base_uri": "https://localhost:8080/"
        },
        "id": "ySroM609U5B3",
        "outputId": "6eacd475-7280-4a2b-b22d-e857f805b239"
      },
      "execution_count": 20,
      "outputs": [
        {
          "output_type": "stream",
          "name": "stdout",
          "text": [
            "enter  keys my name is ame\n",
            "{'m': 3, 'y': 1, ' ': 3, 'n': 1, 'a': 2, 'e': 2, 'i': 1, 's': 1}\n"
          ]
        }
      ]
    },
    {
      "cell_type": "code",
      "source": [
        "#12 Given a dictionary containing the names and ages of a group of people, return the name of the oldest person\n",
        "#\n",
        "x={\"mahaboob\":20,\"rohit\":35,\"virat\":34,\"surya\":32}\n",
        "y=max(x,key=x.get)\n",
        "print(\"name of the oldest person is :\",y)"
      ],
      "metadata": {
        "colab": {
          "base_uri": "https://localhost:8080/"
        },
        "id": "zAIOpAeIgBbq",
        "outputId": "f8a6a5c7-4c82-4fa3-cb0c-84851b9bdd16"
      },
      "execution_count": 41,
      "outputs": [
        {
          "output_type": "stream",
          "name": "stdout",
          "text": [
            "name of the oldest person is : rohit\n"
          ]
        }
      ]
    },
    {
      "cell_type": "code",
      "source": [
        "#13 Write a Python program to create a Rock, Paper, Scissor game, use two inputs for twoplayers:\n",
        "# Conditions: -Rock beats Scissors, Scissors beats Paper, Paper beats Rock\n",
        "p1=input( \" person1 input is  rock,scissors,paper :\")\n",
        "p2=input(\" person2  input is  rock,scissors,paper :\")\n",
        "if p1==\"rock\" and p2==\"scissors\" or p1== \"scissors\" and p2==\"paper\" or p1==\"paper\" and p2 ==\"rock\":\n",
        "  print(\"person1 is the winner\")\n",
        "elif p2==\"rock\" and p1==\"scissors\" or p2== \"scissors\" and p1==\"paper\" or p2==\"paper\" and p1 ==\"rock\":\n",
        "  print(\"person2 is the winner\")\n",
        "else :\n",
        "  print(\" both the players are given same condition so try again\")"
      ],
      "metadata": {
        "id": "QJsaAX5YT3L-",
        "colab": {
          "base_uri": "https://localhost:8080/"
        },
        "outputId": "00d5564e-2a25-4d80-d2e5-c29d32bf5a0a"
      },
      "execution_count": 24,
      "outputs": [
        {
          "output_type": "stream",
          "name": "stdout",
          "text": [
            " person1 input is  rock,scissors,paper :rock\n",
            " person2  input is  rock,scissors,paper :paper\n",
            "person2 is the winner\n"
          ]
        }
      ]
    },
    {
      "cell_type": "code",
      "source": [
        "# 14 Create a program that returns a list of items that you can afford in the store with the money you have in your wallet.\n",
        "#  Create a dictionary with items as key and price as values\n",
        "items_values={\"water bottels\":20,\"chips\":10,\"iphone\":49000,\"towel\":90,\"pens\":58,\"cake\":4000}\n",
        "w_bal=float(input(\" enter wallet balance :\"))\n",
        "affordable_items=[item for item,price in items_values.items() if price<=w_bal]\n",
        "print(\"Affordable items \",affordable_items)"
      ],
      "metadata": {
        "id": "gwZcTMZiT3O7",
        "colab": {
          "base_uri": "https://localhost:8080/"
        },
        "outputId": "98428743-d58f-4810-c1c9-cdc410d22e48"
      },
      "execution_count": 25,
      "outputs": [
        {
          "output_type": "stream",
          "name": "stdout",
          "text": [
            " enter wallet balance :50\n",
            "Affordable items  ['water bottels', 'chips']\n"
          ]
        }
      ]
    },
    {
      "cell_type": "code",
      "source": [
        "#15 Write a Python program that accepts name of given subject and mark, andmake subjects as keys in dictionaries and marks as values and print the final\n",
        "# dictionary with subjects and marks\n",
        "sub_mar={}\n",
        "for i in range(1,5):\n",
        "  sub=input(\"enter subject:\")\n",
        "  mar=input(\"enter marks : \")\n",
        "  sub_ma[sub]=mar\n",
        "print(sub_mar)"
      ],
      "metadata": {
        "id": "q-twfkGzqigV",
        "colab": {
          "base_uri": "https://localhost:8080/"
        },
        "outputId": "2392f8a4-5897-4398-92eb-477d53d44176"
      },
      "execution_count": 31,
      "outputs": [
        {
          "output_type": "stream",
          "name": "stdout",
          "text": [
            "enter subject:maths\n",
            "enter marks : 90\n",
            "enter subject:science\n",
            "enter marks : 93\n",
            "enter subject:sanskrit\n",
            "enter marks : 99\n",
            "enter subject:english\n",
            "enter marks : 88\n",
            "{'maths': '90', 'science': '93', 'sanskrit': '99', 'english': '88'}\n"
          ]
        }
      ]
    }
  ]
}