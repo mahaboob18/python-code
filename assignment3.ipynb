{
  "nbformat": 4,
  "nbformat_minor": 0,
  "metadata": {
    "colab": {
      "provenance": []
    },
    "kernelspec": {
      "name": "python3",
      "display_name": "Python 3"
    },
    "language_info": {
      "name": "python"
    }
  },
  "cells": [
    {
      "cell_type": "code",
      "execution_count": null,
      "metadata": {
        "colab": {
          "base_uri": "https://localhost:8080/"
        },
        "id": "5E2tajR0F2JZ",
        "outputId": "50b70edd-11cb-4459-f593-e2163d8dc988"
      },
      "outputs": [
        {
          "output_type": "stream",
          "name": "stdout",
          "text": [
            "enter number :0\n",
            "0\n",
            "1\n",
            "2\n",
            "4\n",
            "5\n"
          ]
        }
      ],
      "source": [
        "#1 Write a Python program that prints all the numbers from 0 to 6 except 3 and 6\n",
        "num=int(input(\"enter number :\"))\n",
        "while num<7:\n",
        "  if num%3!=0 or num==0:\n",
        "   print(num)\n",
        "  num=num+1"
      ]
    },
    {
      "cell_type": "code",
      "source": [
        "#2 Write a program to accept a number from a user and calculate the sum of all numbers from 1 to a given number\n",
        "\n",
        "x=1\n",
        "sum=0\n",
        "y=int(input(\"given number\"))\n",
        "while x<y:\n",
        "  sum=sum+x\n",
        "  x=x+1\n",
        "print(\"the sum of all numbers from one to given number :\",sum) #this is sum of all numbers from 1 to 100"
      ],
      "metadata": {
        "colab": {
          "base_uri": "https://localhost:8080/"
        },
        "id": "LlojbKw_DjdZ",
        "outputId": "ad91dd22-8ab6-48dc-fa3f-5c6ac89477ad"
      },
      "execution_count": null,
      "outputs": [
        {
          "output_type": "stream",
          "name": "stdout",
          "text": [
            "given number100\n",
            "the sum of all numbers from one to given number : 4950\n"
          ]
        }
      ]
    },
    {
      "cell_type": "code",
      "source": [
        "#3 Write a program to print multiplication table of a givennumber(input)\n",
        "x=int(input(\"enter table of : \"))\n",
        "y=1\n",
        "while y<11:\n",
        "  print(x,\"*\",y,\"=\",x*y )\n",
        "  y=y+1"
      ],
      "metadata": {
        "id": "XSUxhinrGjEF",
        "colab": {
          "base_uri": "https://localhost:8080/"
        },
        "outputId": "d3afb4bb-9a38-4384-89be-0d19bc91111f"
      },
      "execution_count": null,
      "outputs": [
        {
          "output_type": "stream",
          "name": "stdout",
          "text": [
            "enter table of : 25\n",
            "25 * 1 = 25\n",
            "25 * 2 = 50\n",
            "25 * 3 = 75\n",
            "25 * 4 = 100\n",
            "25 * 5 = 125\n",
            "25 * 6 = 150\n",
            "25 * 7 = 175\n",
            "25 * 8 = 200\n",
            "25 * 9 = 225\n",
            "25 * 10 = 250\n"
          ]
        }
      ]
    },
    {
      "cell_type": "code",
      "source": [
        "#4 Write a program to count the total number of digits in a number using a while loop.\n",
        "num=input(\"enter digits :\")\n",
        "digit_count=0\n",
        "i=0#iteration\n",
        "while i<len(num):\n",
        "  if num.isdigit():\n",
        "    digit_count=digit_count+1\n",
        "  i=i+1\n",
        "print(digit_count)"
      ],
      "metadata": {
        "colab": {
          "base_uri": "https://localhost:8080/"
        },
        "id": "jchFEnRKPyfi",
        "outputId": "96731980-07a3-49be-a200-a9fbb8a71298"
      },
      "execution_count": null,
      "outputs": [
        {
          "output_type": "stream",
          "name": "stdout",
          "text": [
            "enter digits :9988123765\n",
            "10\n"
          ]
        }
      ]
    },
    {
      "cell_type": "code",
      "source": [
        "#5 Write a Python program to guess a number between 1 to 100\n",
        "num=12\n",
        "guess_num=int(input(\"guess number :\"))\n",
        "#hint1 he is a cricket player\n",
        "while num!=guess_num:\n",
        "  guess_num=int(input(\"you guessed the wrong number try again :\"))\n",
        "#hint2 he is man of the tournment of 2011world cup\n",
        "print(\"you guessed the correct number\",num)"
      ],
      "metadata": {
        "id": "O-joka2HSm8k",
        "colab": {
          "base_uri": "https://localhost:8080/"
        },
        "outputId": "3fec944e-1fa0-45d1-f59f-967d82bd2cdd"
      },
      "execution_count": null,
      "outputs": [
        {
          "output_type": "stream",
          "name": "stdout",
          "text": [
            "guess number :7\n",
            "you guessed the wrong number try again :12\n",
            "you guessed the correct number 12\n"
          ]
        }
      ]
    },
    {
      "cell_type": "code",
      "source": [
        "#6 Write a Python program which iterates the integers from 1to 60. For multiples of three print \"Fizz\" instead of the\n",
        "#  number and for the multiples of five print \"Buzz\". Fornumbers which are multiples of both three and five print\"FizzBuzz\".\n",
        "x=1\n",
        "while x<61:\n",
        "  if x%3==0 and x%5==0:\n",
        "     print(\"fizzbuzz\")\n",
        "  elif x%3==0:\n",
        "    print(\"fizz\")\n",
        "  elif x%5==0:\n",
        "    print(\"buzz\")\n",
        "  else :\n",
        "    print(\"the number is not mutiples of 3 and 5 :\",x)\n",
        "  x=x+1"
      ],
      "metadata": {
        "colab": {
          "base_uri": "https://localhost:8080/"
        },
        "id": "y6JLgR7Nh8kw",
        "outputId": "5fd08238-bcad-4360-e6a2-c014c16b5e80"
      },
      "execution_count": null,
      "outputs": [
        {
          "output_type": "stream",
          "name": "stdout",
          "text": [
            "the number is not mutiples of 3 and 5 : 1\n",
            "the number is not mutiples of 3 and 5 : 2\n",
            "fizz\n",
            "the number is not mutiples of 3 and 5 : 4\n",
            "buzz\n",
            "fizz\n",
            "the number is not mutiples of 3 and 5 : 7\n",
            "the number is not mutiples of 3 and 5 : 8\n",
            "fizz\n",
            "buzz\n",
            "the number is not mutiples of 3 and 5 : 11\n",
            "fizz\n",
            "the number is not mutiples of 3 and 5 : 13\n",
            "the number is not mutiples of 3 and 5 : 14\n",
            "fizzbuzz\n",
            "the number is not mutiples of 3 and 5 : 16\n",
            "the number is not mutiples of 3 and 5 : 17\n",
            "fizz\n",
            "the number is not mutiples of 3 and 5 : 19\n",
            "buzz\n",
            "fizz\n",
            "the number is not mutiples of 3 and 5 : 22\n",
            "the number is not mutiples of 3 and 5 : 23\n",
            "fizz\n",
            "buzz\n",
            "the number is not mutiples of 3 and 5 : 26\n",
            "fizz\n",
            "the number is not mutiples of 3 and 5 : 28\n",
            "the number is not mutiples of 3 and 5 : 29\n",
            "fizzbuzz\n",
            "the number is not mutiples of 3 and 5 : 31\n",
            "the number is not mutiples of 3 and 5 : 32\n",
            "fizz\n",
            "the number is not mutiples of 3 and 5 : 34\n",
            "buzz\n",
            "fizz\n",
            "the number is not mutiples of 3 and 5 : 37\n",
            "the number is not mutiples of 3 and 5 : 38\n",
            "fizz\n",
            "buzz\n",
            "the number is not mutiples of 3 and 5 : 41\n",
            "fizz\n",
            "the number is not mutiples of 3 and 5 : 43\n",
            "the number is not mutiples of 3 and 5 : 44\n",
            "fizzbuzz\n",
            "the number is not mutiples of 3 and 5 : 46\n",
            "the number is not mutiples of 3 and 5 : 47\n",
            "fizz\n",
            "the number is not mutiples of 3 and 5 : 49\n",
            "buzz\n",
            "fizz\n",
            "the number is not mutiples of 3 and 5 : 52\n",
            "the number is not mutiples of 3 and 5 : 53\n",
            "fizz\n",
            "buzz\n",
            "the number is not mutiples of 3 and 5 : 56\n",
            "fizz\n",
            "the number is not mutiples of 3 and 5 : 58\n",
            "the number is not mutiples of 3 and 5 : 59\n",
            "fizzbuzz\n"
          ]
        }
      ]
    },
    {
      "cell_type": "code",
      "source": [
        "#7 Write a Python program that accepts a string and calculatethe number of digits and letters\n",
        "x=input(\"enter string :\")\n",
        "letter_count=0\n",
        "digit_count=0\n",
        "index=0\n",
        "while index<len(x):\n",
        "  a=x[index]\n",
        "  if a.isalpha():\n",
        "    letter_count=letter_count+1\n",
        "  elif a.isdigit():\n",
        "    digit_count=digit_count+1\n",
        "  index=index+1\n",
        "print(\"no of letters is :\",letter_count)\n",
        "print(\"no of digit is :\",digit_count)"
      ],
      "metadata": {
        "id": "s-d9KhwsHvNS",
        "colab": {
          "base_uri": "https://localhost:8080/"
        },
        "outputId": "f6896e53-b067-41f2-b4c0-9e3639f79c4e"
      },
      "execution_count": null,
      "outputs": [
        {
          "output_type": "stream",
          "name": "stdout",
          "text": [
            "enter string :mahaboob7765314489\n",
            "no of letters is : 8\n",
            "no of digit is : 10\n"
          ]
        }
      ]
    },
    {
      "cell_type": "code",
      "source": [
        "#8 Write a Python program to check the validity of password input by users.\n",
        "password=\"Kane@619\"\n",
        "enter_password=input(\"enter password :\")\n",
        "while  enter_password!=password:\n",
        "  enter_password=input(\"you enterd wrong password is not valid try again :\")\n",
        "print(\"the password you enterd is valid :\",enter_password)"
      ],
      "metadata": {
        "colab": {
          "base_uri": "https://localhost:8080/"
        },
        "id": "GUI8mQt_HxjJ",
        "outputId": "5bec6cb5-959b-4d4f-dd16-030f5ae98563"
      },
      "execution_count": 3,
      "outputs": [
        {
          "output_type": "stream",
          "name": "stdout",
          "text": [
            "enter password :mahaboob\n",
            "you enterd wrong password is not valid try again :kane@916\n",
            "you enterd wrong password is not valid try again :kane@619\n",
            "you enterd wrong password is not valid try again :Kane@619\n",
            "the password you enterd is valid : Kane@619\n"
          ]
        }
      ]
    },
    {
      "cell_type": "code",
      "source": [
        "#9 Write a program in Python to reverse a word by using while loop\n",
        "word=input(\"enter word :\")\n",
        "reversed_word=\"\"\n",
        "index=(len(word)-1)\n",
        "while index>=0:\n",
        "  reversed_word=reversed_word+word[index]\n",
        "  index=index-1\n",
        "print(\"reversed word :\",reversed_word)"
      ],
      "metadata": {
        "id": "B_cPZqnhtJSe",
        "colab": {
          "base_uri": "https://localhost:8080/"
        },
        "outputId": "f2b7227a-3f92-4ade-d5cf-2077ead9b2f9"
      },
      "execution_count": 5,
      "outputs": [
        {
          "output_type": "stream",
          "name": "stdout",
          "text": [
            "enter word :mahaboob\n",
            "reversed word : boobaham\n"
          ]
        }
      ]
    },
    {
      "cell_type": "code",
      "source": [
        "#10 Write a program to generate the first n numbers in the Fibonacci sequence using a while loop.\n",
        "fib=int(input(\"fibonacci sequence of :\"))\n",
        "first_term,second_term=0,1\n",
        "count=0\n",
        "y=int(input(\"enter no :\"))\n",
        "print(\"below numbers are the sequence of fibnoacci :\")\n",
        "while count<y:\n",
        "  print(first_term)\n",
        "  nth_term=first_term+second_term\n",
        "  first_term=second_term\n",
        "  second_term=nth_term\n",
        "  count=count+1"
      ],
      "metadata": {
        "colab": {
          "base_uri": "https://localhost:8080/"
        },
        "id": "4bnFQ3hagnka",
        "outputId": "930e296c-8f50-4905-fd42-74c68684bdba"
      },
      "execution_count": 7,
      "outputs": [
        {
          "output_type": "stream",
          "name": "stdout",
          "text": [
            "fibonacci sequence of :10\n",
            "enter no :11\n",
            "below numbers are the sequence of fibnoacci :\n",
            "0\n",
            "1\n",
            "1\n",
            "2\n",
            "3\n",
            "5\n",
            "8\n",
            "13\n",
            "21\n",
            "34\n",
            "55\n"
          ]
        }
      ]
    },
    {
      "cell_type": "code",
      "source": [
        "#11 Write a program which takes 10 integers as input using loop and print their average value on the screen\n",
        "x=1\n",
        "sum=0\n",
        "while x<11:\n",
        "  num=int(input(\"enterd integer is :\"))\n",
        "  sum=sum+num\n",
        "  x=x+1\n",
        "print(\"average of 10 integers are :\",sum/x)"
      ],
      "metadata": {
        "colab": {
          "base_uri": "https://localhost:8080/"
        },
        "id": "CH04JOassbEP",
        "outputId": "66032ab8-fdde-4503-da6c-90c1001c27ac"
      },
      "execution_count": null,
      "outputs": [
        {
          "output_type": "stream",
          "name": "stdout",
          "text": [
            "enterd integer is :91\n",
            "enterd integer is :92\n",
            "enterd integer is :93\n",
            "enterd integer is :94\n",
            "enterd integer is :95\n",
            "enterd integer is :96\n",
            "enterd integer is :97\n",
            "enterd integer is :98\n",
            "enterd integer is :99\n",
            "enterd integer is :100\n",
            "average of 10 integers are : 86.81818181818181\n"
          ]
        }
      ]
    },
    {
      "cell_type": "code",
      "source": [
        "\n",
        "#12 Write a Python program which will remove all digits orany other characters from the string except alphabets\n",
        "\n",
        "x=input(\"enter string :\")\n",
        "y=\"\"\n",
        "i=0\n",
        "while i<len(x):\n",
        "  char=x[i]\n",
        "  if char.isalpha():\n",
        "    y=y+char\n",
        "  i=i+1\n",
        "print(\"the string only contains alphabets :\",y)"
      ],
      "metadata": {
        "colab": {
          "base_uri": "https://localhost:8080/"
        },
        "id": "yQ0XJwdQrzW4",
        "outputId": "48cc9fc0-2931-4f23-a806-0f8dd1013c91"
      },
      "execution_count": 8,
      "outputs": [
        {
          "output_type": "stream",
          "name": "stdout",
          "text": [
            "enter string :ma45ha656bo363ob1\n",
            "the string only contains alphabets : mahaboob\n"
          ]
        }
      ]
    },
    {
      "cell_type": "code",
      "source": [
        "#13 Write a program that calculates the factorial of a number using a while loop.\n",
        "num=int(input(\"enter number :\"))\n",
        "fact=1\n",
        "while num>0:\n",
        "  fact=fact*num\n",
        "  num=num-1\n",
        "print(\"factorials :\",fact)"
      ],
      "metadata": {
        "colab": {
          "base_uri": "https://localhost:8080/"
        },
        "id": "XvPGiSFG8hSz",
        "outputId": "3ce7dae4-f9c4-4bed-a114-0fde3b6477ac"
      },
      "execution_count": null,
      "outputs": [
        {
          "output_type": "stream",
          "name": "stdout",
          "text": [
            "enter number :5\n",
            "factorials : 120\n"
          ]
        }
      ]
    },
    {
      "cell_type": "code",
      "source": [
        "#14 Write a python program which will accept a digit and print All the numbers before it till 0\n",
        "digit=int(input(\"enter number :\"))\n",
        "while digit>0:\n",
        "  digit=digit-1\n",
        "  print(digit)"
      ],
      "metadata": {
        "colab": {
          "base_uri": "https://localhost:8080/"
        },
        "id": "hCG54E7pvuxC",
        "outputId": "ba6cfe2f-48d8-411a-8737-61de0d980f07"
      },
      "execution_count": null,
      "outputs": [
        {
          "output_type": "stream",
          "name": "stdout",
          "text": [
            "enter number :5\n",
            "4\n",
            "3\n",
            "2\n",
            "1\n",
            "0\n"
          ]
        }
      ]
    },
    {
      "cell_type": "code",
      "source": [
        "#15 Write a python program to find the sum of all even numbers from 0 to 10\n",
        "x=1\n",
        "even=0\n",
        "while x<11:\n",
        "  if x%2==0:\n",
        "    even=even+x\n",
        "  x=x+1\n",
        "print(\"the sum of even numbers is :\",even)\n"
      ],
      "metadata": {
        "colab": {
          "base_uri": "https://localhost:8080/"
        },
        "id": "gmYyBOf0J2Lm",
        "outputId": "1c3077fa-5a1b-42dd-a083-e22c37a007a8"
      },
      "execution_count": null,
      "outputs": [
        {
          "output_type": "stream",
          "name": "stdout",
          "text": [
            "the sum of even numbers is : 30\n"
          ]
        }
      ]
    },
    {
      "cell_type": "code",
      "source": [
        "#16 Create a dynamic calculator which will run continually tillyou press “c”\n",
        "#x=int(input(\"enter string :\"))\n",
        "x=input(\"enter string  :\")\n",
        "while x!=\"c\" :\n",
        " num1=int(input(\"enter number :\"))\n",
        " symbol=input(\"+,-,*,**,/,%,//,\")\n",
        " num2=int(input(\"enter number :\"))\n",
        " if symbol==\"+\":\n",
        "  print(\"{}+{}={}\".format(num1,num2,num1+num2))\n",
        " elif symbol==\"-\":\n",
        "  print(\"{}-{}={}\".format(num1,num2,num1-num2))\n",
        " elif symbol==\"*\":\n",
        "  print(\"{}*{}={}\".format(num1,num2,num1*num2))\n",
        " elif symbol==\"**\":\n",
        "  print(\"{}**{}={}\".format(num1,num2,num1**num2))\n",
        " elif symbol==\"/\":\n",
        "     print(\"{}/{}={}\".format(num1,num2,num1/num2))\n",
        " elif symbol==\"//\":\n",
        "    print(\"{}//{}={}\".format(num1,num2,num1//num2))\n",
        " else :\n",
        "    print(\"{}%{}={}\".format(num1,num2,num1%num2))\n",
        " x=input(\"enter string : \")\n",
        " if x==\"c\":\n",
        "  print(\"stop the calcilater\")"
      ],
      "metadata": {
        "id": "x1o1GWhKJ2U7",
        "colab": {
          "base_uri": "https://localhost:8080/"
        },
        "outputId": "d16e7e3e-73f3-46a7-ca1d-a9df4c9ac360"
      },
      "execution_count": 2,
      "outputs": [
        {
          "output_type": "stream",
          "name": "stdout",
          "text": [
            "enter string  :m\n",
            "enter number :99\n",
            "+,-,*,**,/,%,//,*\n",
            "enter number :100\n",
            "99*100=9900\n",
            "enter string : r\n",
            "enter number :555\n",
            "+,-,*,**,/,%,//,//\n",
            "enter number :5\n",
            "555//5=111\n",
            "enter string : c\n",
            "stop the calcilater\n"
          ]
        }
      ]
    },
    {
      "cell_type": "code",
      "source": [
        " #17 Write a program that checks if a given string is a palindrome (reads the same backward as forward) using a while loop.\n",
        "word=input(\"enter string \")\n",
        "reversed_word=\"\"\n",
        "ind=len(word)-1\n",
        "while ind>=0:\n",
        "  reversed_word=reversed_word+word[ind]\n",
        "  ind=ind-1\n",
        "print(reversed_word)\n",
        "if word==reversed_word:\n",
        "    print(\"given string is not a palindrome\")\n",
        "else :\n",
        "     print(\"given string is  a palindrome\")"
      ],
      "metadata": {
        "colab": {
          "base_uri": "https://localhost:8080/"
        },
        "id": "du-7y_P64Y67",
        "outputId": "32eaae24-2c14-47d3-ee01-75fdb7c2469d"
      },
      "execution_count": null,
      "outputs": [
        {
          "output_type": "stream",
          "name": "stdout",
          "text": [
            "enter string mahaboob\n",
            "boobaham\n",
            "given string is  a palindrome\n"
          ]
        }
      ]
    },
    {
      "cell_type": "code",
      "source": [
        "#18 Create a program that checks if a given number is prime using a while loop.\n",
        "num=int(input(\"enter number \"))\n",
        "prime= True\n",
        "div=2\n",
        "while div<=num // 2:\n",
        "  if num % div == 0:\n",
        "    prime= False\n",
        "    break\n",
        "  div=div+1\n",
        "if prime and num>1:\n",
        "  print(\"given number is a prime number\")\n",
        "else :\n",
        "  print(\"given number is not a prime number\")"
      ],
      "metadata": {
        "id": "DhKfHoVL-YaW",
        "colab": {
          "base_uri": "https://localhost:8080/"
        },
        "outputId": "f170b46d-569a-43ea-a25f-86beed93c0b2"
      },
      "execution_count": 14,
      "outputs": [
        {
          "output_type": "stream",
          "name": "stdout",
          "text": [
            "enter number 25\n",
            "given number is not a prime number\n"
          ]
        }
      ]
    }
  ]
}