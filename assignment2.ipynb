{
  "cells": [
    {
      "cell_type": "code",
      "execution_count": null,
      "metadata": {
        "colab": {
          "base_uri": "https://localhost:8080/"
        },
        "id": "0ZP1jEJNctHh",
        "outputId": "2fc034ce-e773-479a-9905-a3e41262b6b2"
      },
      "outputs": [
        {
          "output_type": "stream",
          "name": "stdout",
          "text": [
            "enter any number1100\n",
            "*,//*\n",
            "enter any number9\n",
            "1100*9==9900\n"
          ]
        }
      ],
      "source": [
        "#1 write program to accept two numbers from the user and calculate multiplication, division\n",
        "num1=int(input(\"enter any number\"))\n",
        "symbol=input(\"*,//\")\n",
        "num2=int(input(\"enter any number\"))\n",
        "if symbol==\"*\":\n",
        "         print(\"{}*{}=={}\".format(num1,num2,num1*num2))\n",
        "else :\n",
        "         print(\"{}//{}=={}\".format(num1,num2,num1//num2))"
      ]
    },
    {
      "cell_type": "code",
      "execution_count": null,
      "metadata": {
        "colab": {
          "base_uri": "https://localhost:8080/"
        },
        "id": "uW3sc3xJN4iI",
        "outputId": "a3d03d1f-8f6e-407c-fbe9-be83a01ecd3b"
      },
      "outputs": [
        {
          "name": "stdout",
          "output_type": "stream",
          "text": [
            "mhb0"
          ]
        }
      ],
      "source": [
        "#2 Write a python program to print the characters from astring that are present at an even index\n",
        "x=\"mahab00b\"\n",
        "y=0\n",
        "even=\"\"\n",
        "while y<len(x):\n",
        "  print(even+x[y],end=\"\")\n",
        "  y=y+2\n"
      ]
    },
    {
      "cell_type": "code",
      "execution_count": null,
      "metadata": {
        "colab": {
          "base_uri": "https://localhost:8080/"
        },
        "id": "AHGcNoDsuXqC",
        "outputId": "99436c71-fc0e-4832-b0ba-830a25ea3db2"
      },
      "outputs": [
        {
          "name": "stdout",
          "output_type": "stream",
          "text": [
            "aa0b"
          ]
        }
      ],
      "source": [
        "#3 Write a python program to print the characters from astring that are present at an odd index\n",
        "\n",
        "x=\"mahab00b\"\n",
        "y=1\n",
        "even=\"\"\n",
        "while y<=len(x):\n",
        "  print(even+x[y], end=\"\")\n",
        "  y=y+2\n"
      ]
    },
    {
      "cell_type": "code",
      "execution_count": null,
      "metadata": {
        "colab": {
          "base_uri": "https://localhost:8080/"
        },
        "id": "vUpgKD_9jy-x",
        "outputId": "f31d36f0-e10a-4259-fb59-c7ce58b9198b"
      },
      "outputs": [
        {
          "name": "stdout",
          "output_type": "stream",
          "text": [
            "enter any number99\n",
            "++\n",
            "enter any number99\n",
            "198\n",
            "the sum of the number is even: 198\n"
          ]
        }
      ],
      "source": [
        "#4 Write a python program which will print the sum of the two numbers if the two numbers are even or it will print the difference of two numbers\n",
        "num1=int(input(\"enter any number\"))\n",
        "symbol=input(\"+\")\n",
        "num2=int(input(\"enter any number\"))\n",
        "even=(num1+num2)\n",
        "if even%2==0:\n",
        "  print(even)\n",
        "  print(\"the sum of the number is even:\",even)\n",
        "else :\n",
        "  print(num1-num2)"
      ]
    },
    {
      "cell_type": "code",
      "execution_count": null,
      "metadata": {
        "colab": {
          "base_uri": "https://localhost:8080/"
        },
        "id": "NNSdWADEmYHa",
        "outputId": "08b39ce7-a3c4-4d5a-cc42-be5bc91337be"
      },
      "outputs": [
        {
          "name": "stdout",
          "output_type": "stream",
          "text": [
            "AbCdEfGhIjKlMnOpQrStUvWxYz"
          ]
        }
      ],
      "source": [
        "#5 Write a python program to convert all even indexed alphabets to upper and odd indexed to alphabet to lower\n",
        "\n",
        "b=\"abcdefghijklmnopqrstuvwxyz\"\n",
        "y=0\n",
        "var=\"\"\n",
        "while y<len(b):\n",
        "  if y%2==0:\n",
        "    print(var+b[y].upper(),end=\"\")\n",
        "  else :\n",
        "    print(var+b[y].lower(),end=\"\")\n",
        "  y=y+1\n",
        "\n",
        "\n"
      ]
    },
    {
      "cell_type": "code",
      "execution_count": null,
      "metadata": {
        "colab": {
          "base_uri": "https://localhost:8080/"
        },
        "id": "pDO-Vt3BtQzZ",
        "outputId": "a89626ce-014d-43d3-892d-c8f6ca0f8b60"
      },
      "outputs": [
        {
          "name": "stdout",
          "output_type": "stream",
          "text": [
            "enter any number88\n",
            "false\n"
          ]
        }
      ],
      "source": [
        "#6 Write a python program which will print True if the inputnumber is divisible by 5 or else False\n",
        "number=int(input(\"enter any number\"))\n",
        "if number%5==0:\n",
        "  print(\"true\")\n",
        "else :\n",
        "  print(\"false\")"
      ]
    },
    {
      "cell_type": "code",
      "execution_count": null,
      "metadata": {
        "colab": {
          "base_uri": "https://localhost:8080/"
        },
        "id": "6AfTo1owRdWQ",
        "outputId": "390ed9e4-ff14-42cf-bf18-a201cd37ba2a"
      },
      "outputs": [
        {
          "output_type": "stream",
          "name": "stdout",
          "text": [
            "enter any number99\n",
            "**\n",
            "enter any number10\n",
            "99+10=109\n",
            "the product is lower than 1000\n"
          ]
        }
      ],
      "source": [
        "#7 Given two integer numbers return their product only if the product is greater than 1000, else return their sum\n",
        "num1=int(input(\"enter any number\"))\n",
        "symbol=input(\"*\")\n",
        "num2=int(input(\"enter any number\"))\n",
        "\n",
        "if num1*num2>1000:\n",
        "  print(\"the product is greter than 1000\")\n",
        "  print(\"{}+{}={}\".format(num1,num2,num1*num2))\n",
        "else :\n",
        "    print(\"{}+{}={}\".format(num1,num2,num1+num2))\n",
        "    print(\"the product is lower than 1000\")"
      ]
    },
    {
      "cell_type": "code",
      "execution_count": null,
      "metadata": {
        "colab": {
          "base_uri": "https://localhost:8080/"
        },
        "id": "PCMs4Dd_iSPr",
        "outputId": "0f9aa856-138c-456f-83c9-5128fe402208"
      },
      "outputs": [
        {
          "name": "stdout",
          "output_type": "stream",
          "text": [
            "enter string1 pytho\n",
            "enter string2 javas\n",
            "output pjtvos\n"
          ]
        }
      ],
      "source": [
        "#8 Given two strings x, y writes a program to return a new string made of x and y’s first, middle, and last characters\n",
        "x=input(\"enter string1 \")\n",
        "y=input(\"enter string2 \")\n",
        "z=0\n",
        "a=\"\"\n",
        "while z<len(x) and z<len(y):\n",
        "  a=a+x[z]+y[z]\n",
        "  z=z+int((len(x)-1)/2)\n",
        "print(\"output\",a)\n",
        "\n",
        "\n"
      ]
    },
    {
      "cell_type": "code",
      "execution_count": null,
      "metadata": {
        "colab": {
          "base_uri": "https://localhost:8080/"
        },
        "id": "6AfruCr8A418",
        "outputId": "68ab57d0-e103-4b5e-b69f-5f8008d0db08"
      },
      "outputs": [
        {
          "name": "stdout",
          "output_type": "stream",
          "text": [
            "enter names mahaboob\n",
            "person 0 is mahaboob\n",
            "enter names buji\n",
            "person 1 is buji\n",
            "enter names captain america\n",
            "person 2 is captain america\n"
          ]
        }
      ],
      "source": [
        "#9 Write a python program to take three names as inputfrom a user in the single input () function call\n",
        "z=0\n",
        "while z<=2:\n",
        "  names=input(\"enter names \")\n",
        "  print(\"person  {} is {}\".format(z,names))\n",
        "  z=z+1"
      ]
    },
    {
      "cell_type": "code",
      "source": [
        "#10 Write a Python program that checks if a number is between 10 and 20 (inclusive).\n",
        "num=int(input(\"enter number :\"))\n",
        "if 10<=num<=20:\n",
        "  print(\"the number is between 10 and 20\")\n",
        "else :\n",
        "  print(\"the number is not between 10 and 20\")\n",
        "\n"
      ],
      "metadata": {
        "colab": {
          "base_uri": "https://localhost:8080/"
        },
        "id": "Jjt2dEEsoP-0",
        "outputId": "082696f4-0378-4b63-a8c4-02bdb91234a9"
      },
      "execution_count": null,
      "outputs": [
        {
          "output_type": "stream",
          "name": "stdout",
          "text": [
            "enter number :12\n",
            "the number is between 10 and 20\n"
          ]
        }
      ]
    },
    {
      "cell_type": "code",
      "execution_count": null,
      "metadata": {
        "colab": {
          "base_uri": "https://localhost:8080/"
        },
        "id": "yfaTNF2mNx2P",
        "outputId": "95c61196-1eb3-424f-a398-2d3e8cd7b671"
      },
      "outputs": [
        {
          "output_type": "stream",
          "name": "stdout",
          "text": [
            "enter any string play\n",
            "playing\n"
          ]
        }
      ],
      "source": [
        "from IPython.core.interactiveshell import ListType\n",
        "#11 Write a Python program to add 'ing' at the end of a givenstring (string length should be equal to or more than 3). Ifthe given string already ends with 'ing'\n",
        "#then add 'ly' instead.If the string length of the given string is less than 3, leave it unchanged\n",
        "zang=input(\"enter any string \")\n",
        "if len(zang)>=3 and zang[-3:]!=\"ing\":\n",
        "  print(zang+\"ing\")\n",
        "elif len(zang)>5 and zang[-3:]==\"ing\":\n",
        "  print(zang.replace(\"ing\", \"ly \"))\n",
        "else :\n",
        "  print(zang)"
      ]
    },
    {
      "cell_type": "code",
      "execution_count": null,
      "metadata": {
        "colab": {
          "base_uri": "https://localhost:8080/"
        },
        "id": "7I_jAlqDFPuA",
        "outputId": "d35c39eb-f57b-47f2-b8a9-425130abdff4"
      },
      "outputs": [
        {
          "output_type": "stream",
          "name": "stdout",
          "text": [
            "enter any number1\n",
            "enter any number22\n",
            "false\n"
          ]
        }
      ],
      "source": [
        "#12 Write a python program that accepts two inputs num1 and num2 print True if one of them is 10 or if their sum is 10 otherwise print False\n",
        "num1=int(input(\"enter any number\"))\n",
        "\n",
        "num2=int(input(\"enter any number\"))\n",
        "sum=num1+num2\n",
        "if sum==10 or num1==10 or num2==10 :\n",
        "  print(\"true\")\n",
        "else :\n",
        "  print(\"false\")"
      ]
    },
    {
      "cell_type": "code",
      "execution_count": null,
      "metadata": {
        "colab": {
          "base_uri": "https://localhost:8080/"
        },
        "id": "6iywXjY9JQnY",
        "outputId": "efb262eb-e9d5-4942-945a-b1bfbcb17c6d"
      },
      "outputs": [
        {
          "output_type": "stream",
          "name": "stdout",
          "text": [
            "enter any number 10\n",
            "enter any number 10\n",
            "enter any number 101\n",
            "false\n"
          ]
        }
      ],
      "source": [
        "#13 Write a python program that accepts three inputs x, y andz print True if x*y>z otherwise False\n",
        "x=int(input(\"enter any number \"))\n",
        "y=int(input(\"enter any number \"))\n",
        "z=int(input(\"enter any number \"))\n",
        "if x*y>z:\n",
        "  print(\"true\")\n",
        "else :\n",
        "  print(\"false\")"
      ]
    },
    {
      "cell_type": "code",
      "execution_count": null,
      "metadata": {
        "colab": {
          "base_uri": "https://localhost:8080/"
        },
        "id": "aCILHdcJKW28",
        "outputId": "aa5c74c3-ce27-48c8-bd6d-191e49186502"
      },
      "outputs": [
        {
          "output_type": "stream",
          "name": "stdout",
          "text": [
            "enter string one buji\n",
            "enter string two buji\n",
            "true\n"
          ]
        }
      ],
      "source": [
        "#14 Write a python program that accepts two strings inputs return True depending on whetherthe total number of characters in the first string\n",
        "#is equal to the total number ofcharacters in the second string\n",
        "x= input(\"enter string one \")\n",
        "y=input(\"enter string two \")\n",
        "if len(x)==len(y):\n",
        "  print(\"true\")\n",
        "else :\n",
        "  print(\"false\")"
      ]
    },
    {
      "cell_type": "code",
      "execution_count": null,
      "metadata": {
        "colab": {
          "base_uri": "https://localhost:8080/"
        },
        "id": "xzbNNoyfqF60",
        "outputId": "680856fd-a660-4eef-b43b-10682d8e3e96"
      },
      "outputs": [
        {
          "output_type": "stream",
          "name": "stdout",
          "text": [
            "enter string tony\n",
            "tonytonytony\n"
          ]
        }
      ],
      "source": [
        "#15 Write a python program that takes a string input, we'll saythat the front is the first three characters of the string. If the\n",
        "# string length is less than three characters, the front iswhatever is there. Return a new string, which is three copiesof the front\n",
        "front=input(\"enter string \")\n",
        "if len(front)<3:\n",
        "  print(front)\n",
        "else :\n",
        "  print(front*3)"
      ]
    },
    {
      "cell_type": "code",
      "execution_count": null,
      "metadata": {
        "colab": {
          "base_uri": "https://localhost:8080/"
        },
        "id": "rLOmTV_D3ED7",
        "outputId": "80ac6fdc-d0d4-44bd-8334-1830f5fad4f7"
      },
      "outputs": [
        {
          "output_type": "stream",
          "name": "stdout",
          "text": [
            "enter any word mahaboobmass\n",
            "enter number :20\n",
            "word is not prural\n"
          ]
        }
      ],
      "source": [
        "#16 Write a python program that takes in a word and determines whether or not it is plural. A plural word is one that ends in \"s\".\n",
        "word=input(\"enter any word \")\n",
        "x=int(input(\"enter number :\"))\n",
        "if len(word)<x or word[-1:]!=\"s\":\n",
        "  print(\"word is prural\")\n",
        "else :\n",
        "  print(\"word is not prural\")"
      ]
    },
    {
      "cell_type": "code",
      "execution_count": null,
      "metadata": {
        "colab": {
          "base_uri": "https://localhost:8080/"
        },
        "id": "JF_rDzoPlJle",
        "outputId": "6705339e-e8de-4fe0-9482-5a31785b68ff"
      },
      "outputs": [
        {
          "output_type": "stream",
          "name": "stdout",
          "text": [
            "enter  age : 18\n",
            "true,false :false\n",
            "bartender serves the drinks\n"
          ]
        }
      ],
      "source": [
        "#17 A bartender is writing a simple program to determine whether he should serve drinks to someone. He only servesdrinks to people 18 and older\n",
        "#and when he's not on break(True means break and False means not a break time). Giventhe person's age, and whether break time is in session, create\n",
        "#a python program which prints whether he should servedrinks or not.\n",
        "age=int(input(\"enter  age : \"))\n",
        "true=\"bartender is on break \"\n",
        "false=\"bartender is not on break\"\n",
        "session=input(\"true,false :\")\n",
        "if age>=18 and session==\"false\":\n",
        "  print(\"bartender serves the drinks\")\n",
        "elif age<=17 and session==\"false\":\n",
        " print(\"bartender not serves the drinks\")\n",
        "else :\n",
        "  print(true)\n"
      ]
    },
    {
      "cell_type": "code",
      "execution_count": null,
      "metadata": {
        "colab": {
          "base_uri": "https://localhost:8080/"
        },
        "id": "ksYytALmRqSu",
        "outputId": "08bb2e9c-d922-4d93-91aa-a8989ede79b5"
      },
      "outputs": [
        {
          "output_type": "stream",
          "name": "stdout",
          "text": [
            "father,mother,brother,sister :sister\n",
            "shiva,letha,tarun,kavitha  :kavitha\n",
            "kavitha relation is sister to : manoj kumar\n"
          ]
        }
      ],
      "source": [
        "#18 Manoj Kumar has family and friends. Help him remind them who is who. Given a string with a name, return the relation of that person to Manoj Kumar.\n",
        "name=\"manoj kumar\"\n",
        "relation=input(\"father,mother,brother,sister :\")\n",
        "family=input(\"shiva,letha,tarun,kavitha  :\")\n",
        "\n",
        "if  relation==\"father\" and family==\"shiva\":\n",
        "  print(family ,\"relation is father to :\",name)\n",
        "elif  relation==\"mother\" and family==\"letha\" :\n",
        "  print(\"relation is mother to :\",name)\n",
        "elif  relation==\"brother\" and family==\"tarun\" :\n",
        "  print(family ,\"relation is brother to :\",name)\n",
        "elif relation==\"sister\" and family==\"kavitha\":\n",
        "  print(family ,\"relation is sister to :\",name)\n",
        "else :\n",
        "  print(\" you entered wrong input please try again\")\n"
      ]
    },
    {
      "cell_type": "code",
      "source": [
        "#19 Write a python program that takes a string, breaks it up  and returns it with vowels first, consonants second. For any\n",
        "#character that's not a vowel (like special characters orspaces), treat them like consonant\n",
        "x= input(\"Enter a string: \")\n",
        "vowels = \"\"\n",
        "consonants = \"\"\n",
        "\n",
        "for char in x:\n",
        "     if char.lower() in 'aeiou':\n",
        "         vowels=vowels+char\n",
        "     else:\n",
        "          consonants=consonants+char\n",
        "\n",
        "result = vowels + consonants\n",
        "print(\"vowels first :\",vowels)\n",
        "print(\"consonants second :\",consonants)\n",
        "print(\"Result:\", result)"
      ],
      "metadata": {
        "colab": {
          "base_uri": "https://localhost:8080/"
        },
        "id": "yWVMNWcQ74g3",
        "outputId": "d914a80d-2ab4-448f-cc73-026f793f0caf"
      },
      "execution_count": 1,
      "outputs": [
        {
          "output_type": "stream",
          "name": "stdout",
          "text": [
            "Enter a string: abcdefghijklmnopqrstuvwxyz@#$ \n",
            "vowels first : aeiou\n",
            "consonants second : bcdfghjklmnpqrstvwxyz@#$ \n",
            "Result: aeioubcdfghjklmnpqrstvwxyz@#$ \n"
          ]
        }
      ]
    },
    {
      "cell_type": "code",
      "execution_count": null,
      "metadata": {
        "colab": {
          "base_uri": "https://localhost:8080/"
        },
        "id": "5cp9vz9e6cO5",
        "outputId": "38887af0-58cb-48ae-d6b5-49dee44c5bf0"
      },
      "outputs": [
        {
          "name": "stdout",
          "output_type": "stream",
          "text": [
            "enter number 99\n",
            "+,-,*,%,/,***\n",
            "enter number 888\n",
            "99*888=87912\n"
          ]
        }
      ],
      "source": [
        "#20 Create a dynamic calculator which asks for numbers andoperator and return the answers\n",
        "number1=int(input(\"enter number \"))\n",
        "operator=input(\"+,-,*,%,/,**\")\n",
        "number2=int(input(\"enter number \"))\n",
        "if operator==\"+\":\n",
        "  print(\"{}+{}={}\".format(number1,number2,number1+number2))\n",
        "elif operator==\"-\":\n",
        "    print(\"{}-{}={}\".format(number1,number2,number1-number2))\n",
        "elif operator==\"*\":\n",
        "  print(\"{}*{}={}\".format(number1,number2,number1*number2))\n",
        "elif operator==\"%\":\n",
        "  print(\"{}%{}={}\".format(number1,number2,number1%number2))\n",
        "else :\n",
        "  print(\"{}/{}={}\".format(number1,number2,number1/number2))\n"
      ]
    }
  ],
  "metadata": {
    "colab": {
      "provenance": []
    },
    "kernelspec": {
      "display_name": "Python 3",
      "name": "python3"
    },
    "language_info": {
      "name": "python"
    }
  },
  "nbformat": 4,
  "nbformat_minor": 0
}