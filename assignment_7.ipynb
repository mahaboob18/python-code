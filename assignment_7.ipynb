{
  "nbformat": 4,
  "nbformat_minor": 0,
  "metadata": {
    "colab": {
      "provenance": []
    },
    "kernelspec": {
      "name": "python3",
      "display_name": "Python 3"
    },
    "language_info": {
      "name": "python"
    }
  },
  "cells": [
    {
      "cell_type": "code",
      "execution_count": null,
      "metadata": {
        "colab": {
          "base_uri": "https://localhost:8080/"
        },
        "id": "YVg1_4bizLXD",
        "outputId": "a8b957e1-2142-47f8-9681-ccf37b615e2f"
      },
      "outputs": [
        {
          "output_type": "execute_result",
          "data": {
            "text/plain": [
              "tuple"
            ]
          },
          "metadata": {},
          "execution_count": 2
        }
      ],
      "source": [
        "#1 What is a tuple in Python?\n",
        "tp=(\"mahaboob\",100.00,99,)#tuple is similer to list but there is only one difference between them that is tuple are immutable and list are mutable\n",
        "type(tp)"
      ]
    },
    {
      "cell_type": "code",
      "source": [
        "#2 How can you create an empty tuple?\n",
        "tpl=()\n",
        "type(tpl)"
      ],
      "metadata": {
        "colab": {
          "base_uri": "https://localhost:8080/"
        },
        "id": "I1hgXo_S7TFT",
        "outputId": "1d3d7cd2-0cc9-40d0-a015-38d6dc3e918e"
      },
      "execution_count": null,
      "outputs": [
        {
          "output_type": "execute_result",
          "data": {
            "text/plain": [
              "tuple"
            ]
          },
          "metadata": {},
          "execution_count": 4
        }
      ]
    },
    {
      "cell_type": "code",
      "source": [
        "#3 Can a tuple have different data types as its elements?\n",
        "mixed_tuple=('buji', (1+2j), [1, 2], 99.99, 10000)\n",
        "print(mixed_tuple)"
      ],
      "metadata": {
        "colab": {
          "base_uri": "https://localhost:8080/"
        },
        "id": "6omZwsMt7mp4",
        "outputId": "643ae4c3-1d51-4ae9-81ac-b5a4694c9a3c"
      },
      "execution_count": null,
      "outputs": [
        {
          "output_type": "stream",
          "name": "stdout",
          "text": [
            "('buji', (1+2j), [1, 2], 99.99, 10000)\n"
          ]
        }
      ]
    },
    {
      "cell_type": "code",
      "source": [
        "#4 How do you access elements in a tuple?\n",
        "tp=('buji', (1+2j), [1, 2], 99.99, 10000)\n",
        "print(tp[2])# we can access elemant by using index values"
      ],
      "metadata": {
        "colab": {
          "base_uri": "https://localhost:8080/"
        },
        "id": "C9Z2HQ1h8R_I",
        "outputId": "a22f7001-f866-4215-87c5-674027787e50"
      },
      "execution_count": null,
      "outputs": [
        {
          "output_type": "stream",
          "name": "stdout",
          "text": [
            "[1, 2]\n"
          ]
        }
      ]
    },
    {
      "cell_type": "code",
      "source": [
        "#5 Can you modify a tuple after it has been created?\n",
        "x=(1,2,3,4)\n",
        "x[2]=100#if we run  this we get an error because tuples are immutable"
      ],
      "metadata": {
        "id": "QGi_XI_l-W25"
      },
      "execution_count": null,
      "outputs": []
    },
    {
      "cell_type": "code",
      "source": [
        "#6 What is tuple packing and unpacking?\n",
        "tp=(20,30,60,80)#packing\n",
        "a,b,c,d=tp#unpacking and no of variables is equal to len(tp)\n",
        "print(a)"
      ],
      "metadata": {
        "colab": {
          "base_uri": "https://localhost:8080/"
        },
        "id": "0k5RjxtG-oJ-",
        "outputId": "58cd3dc0-5332-4de0-bce3-563fd55c5264"
      },
      "execution_count": null,
      "outputs": [
        {
          "output_type": "stream",
          "name": "stdout",
          "text": [
            "20\n"
          ]
        }
      ]
    },
    {
      "cell_type": "code",
      "source": [
        "y=(1,2,3,4,5,6)\n",
        "a,*b=y\n",
        "print(b)"
      ],
      "metadata": {
        "colab": {
          "base_uri": "https://localhost:8080/"
        },
        "id": "H8e_4YLh-fQ4",
        "outputId": "608cae79-f2c2-4d36-c0ee-eb8768f9938b"
      },
      "execution_count": null,
      "outputs": [
        {
          "output_type": "stream",
          "name": "stdout",
          "text": [
            "[2, 3, 4, 5, 6]\n"
          ]
        }
      ]
    },
    {
      "cell_type": "code",
      "source": [
        "#7 How can you check if an element is present in a tuple?\n",
        "tpl=(\"INDIA\",100,99.99,\"newzeland\",\"semifinal\",10,20)\n",
        "print(20 in tpl)\n",
        "print(90 in tpl)"
      ],
      "metadata": {
        "colab": {
          "base_uri": "https://localhost:8080/"
        },
        "id": "6HIODEq-A_vg",
        "outputId": "125f7c17-891d-4d20-e56e-bafa8f8bfe14"
      },
      "execution_count": null,
      "outputs": [
        {
          "output_type": "stream",
          "name": "stdout",
          "text": [
            "True\n",
            "False\n"
          ]
        }
      ]
    },
    {
      "cell_type": "code",
      "source": [
        "#8 Can you concatenate or repeat tuples?\n",
        "x=(1,2,3)\n",
        "y=(4,5,6)\n",
        "z=x+y\n",
        "print(\"cocatenate of the tuples\",z)\n",
        "print(\"duplication of the tuple\",z*2)"
      ],
      "metadata": {
        "colab": {
          "base_uri": "https://localhost:8080/"
        },
        "id": "yNYFr4VPBDs2",
        "outputId": "157cad8d-784a-47cd-ba72-7df946bd753e"
      },
      "execution_count": null,
      "outputs": [
        {
          "output_type": "stream",
          "name": "stdout",
          "text": [
            "cocatenate of the tuples (1, 2, 3, 4, 5, 6)\n",
            "duplication of the tuple (1, 2, 3, 4, 5, 6, 1, 2, 3, 4, 5, 6)\n"
          ]
        }
      ]
    },
    {
      "cell_type": "code",
      "source": [
        "#9 Can you convert a list to a tuple and vice versa?\n",
        "lst=[1,2,3,4,5,6]\n",
        "tp=tuple(lst)\n",
        "print(\"converting a list to tuple:\",tp)\n",
        "lst=list(tp)#vice vesra\n",
        "print(\"converting a tuples to list: \",lst)"
      ],
      "metadata": {
        "colab": {
          "base_uri": "https://localhost:8080/"
        },
        "id": "EO7Wx6sl0mWK",
        "outputId": "957b3529-b0ec-4aa5-afad-44bf97998c2a"
      },
      "execution_count": null,
      "outputs": [
        {
          "output_type": "stream",
          "name": "stdout",
          "text": [
            "converting a list to tuple: (1, 2, 3, 4, 5, 6)\n",
            "converting a tuples to list:  [1, 2, 3, 4, 5, 6]\n"
          ]
        }
      ]
    },
    {
      "cell_type": "code",
      "source": [
        "#10 Explain the use of the count and index methods in tuples.\n",
        "tpl=(2,3,4,4,12,34,6,7,3,4,17,4,15,4,)\n",
        "count=tpl.count(4)\n",
        "print(\"the total number of times element is repeated is :\",count)\n",
        "index=tpl.index(4)# if there are more duplicates of same element then it gives first occurance of that element\n",
        "print(\"the element is present at that index is :\",index)"
      ],
      "metadata": {
        "colab": {
          "base_uri": "https://localhost:8080/"
        },
        "id": "hVtvdfHU1g__",
        "outputId": "ed5f2f24-687e-4132-bea9-f8da308264b9"
      },
      "execution_count": null,
      "outputs": [
        {
          "output_type": "stream",
          "name": "stdout",
          "text": [
            "the total number of times element is repeated is : 5\n",
            "the element is present at that index is : 2\n"
          ]
        }
      ]
    },
    {
      "cell_type": "code",
      "source": [
        "#11 How do you reverse a tuple without using the [::-1] slicing?tpl\n",
        "tpl=(1,2,3,4,5,6,7)\n",
        "reversed_tpl=tuple(tpl[i] for i in range(len(tpl)-1,-1,-1))\n",
        "print(\"reverse of the tuple :\",reversed_tpl)"
      ],
      "metadata": {
        "colab": {
          "base_uri": "https://localhost:8080/"
        },
        "id": "psG75db10mah",
        "outputId": "b0fbbe2d-31d8-4995-9129-578927974e2b"
      },
      "execution_count": 7,
      "outputs": [
        {
          "output_type": "stream",
          "name": "stdout",
          "text": [
            "reverse of the tuple : (7, 6, 5, 4, 3, 2, 1)\n"
          ]
        }
      ]
    },
    {
      "cell_type": "code",
      "source": [
        "#12 Can you find the maximum and minimum values in a tuple without using built-in functions?\n",
        "num_tpl=(56,98,87,73,99,20,43,67,35,93)\n",
        "max_val=num_tpl[0]\n",
        "min_val=num_tpl[0]\n",
        "for tp in num_tpl:\n",
        "  if tp>max_val:\n",
        "    max_val=tp\n",
        "  elif tp<min_val:\n",
        "    min_val=tp\n",
        "print(\"maximum value \",max_val)\n",
        "print(\"minimum value\",min_val)"
      ],
      "metadata": {
        "colab": {
          "base_uri": "https://localhost:8080/"
        },
        "id": "DAUIUo-Zrl_q",
        "outputId": "1519c947-7eac-4309-a713-e27d0175bf0e"
      },
      "execution_count": 21,
      "outputs": [
        {
          "output_type": "stream",
          "name": "stdout",
          "text": [
            "maximum value  99\n",
            "minimum value 20\n"
          ]
        }
      ]
    },
    {
      "cell_type": "code",
      "source": [
        "#13 Create a new tuple with only unique elements from the given tuple.\n",
        "tpl=(1,2,2,3,4,3,7,8,4,9,0,5,7,6)\n",
        "unique_tpl=tuple(x for x in tpl if tpl.count(x)==1)\n",
        "print(unique_tpl)"
      ],
      "metadata": {
        "colab": {
          "base_uri": "https://localhost:8080/"
        },
        "id": "i4KQ4WbwrmH-",
        "outputId": "84f2c3d0-4562-4f42-d296-b76c97987b16"
      },
      "execution_count": 30,
      "outputs": [
        {
          "output_type": "stream",
          "name": "stdout",
          "text": [
            "(1, 8, 9, 0, 5, 6)\n"
          ]
        }
      ]
    },
    {
      "cell_type": "code",
      "source": [
        " #14 Combine two tuples element-wise without using any built-in functions.\n",
        " tpl1=(10,20,30,40)\n",
        " tpl2=(\"m\",\"a\",\"h\",\"i\")\n",
        " combine_tpl=tuple((tpl1[i],tpl2[i])  for  i in range(min(len(tpl1),len(tpl2))))\n",
        " print(combine_tpl)"
      ],
      "metadata": {
        "colab": {
          "base_uri": "https://localhost:8080/"
        },
        "id": "IOIGeC2gy2rb",
        "outputId": "71cd4914-c7d7-4ad6-88cd-9d5d9ae1cb90"
      },
      "execution_count": 48,
      "outputs": [
        {
          "output_type": "stream",
          "name": "stdout",
          "text": [
            "((10, 'm'), (20, 'a'), (30, 'h'), (40, 'i'))\n"
          ]
        }
      ]
    },
    {
      "cell_type": "code",
      "source": [
        "#15 Sort a tuple of integers without using the sorted function.\n",
        "unsorted_tuple=(10,1,34,5,4,7,8,12,2,99,8,15,6)\n",
        "sorted_tuple=tuple(sorted(unsorted_tuple[i] for i in range(len(unsorted_tuple))))\n",
        "print(sorted_tuple)\n"
      ],
      "metadata": {
        "colab": {
          "base_uri": "https://localhost:8080/"
        },
        "id": "eP6QgpPS219C",
        "outputId": "a2775017-e3ba-49ce-dd37-338aea3c1596"
      },
      "execution_count": 53,
      "outputs": [
        {
          "output_type": "stream",
          "name": "stdout",
          "text": [
            "(1, 2, 4, 5, 6, 7, 8, 8, 10, 12, 15, 34, 99)\n"
          ]
        }
      ]
    }
  ]
}