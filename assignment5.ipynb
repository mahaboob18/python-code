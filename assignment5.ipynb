{
  "cells": [
    {
      "cell_type": "code",
      "execution_count": null,
      "metadata": {
        "colab": {
          "base_uri": "https://localhost:8080/"
        },
        "id": "u3iRBW_dPFSC",
        "outputId": "b3559303-62b8-473c-d0fc-2b9e598962e9"
      },
      "outputs": [
        {
          "name": "stdout",
          "output_type": "stream",
          "text": [
            "enter number of rows : 5\n",
            "* * * * * \n",
            "* * * * * \n",
            "* * * * * \n",
            "* * * * * \n",
            "* * * * * \n"
          ]
        }
      ],
      "source": [
        "#1\n",
        "n=int(input(\"enter number of rows : \"))\n",
        "for i in range(n):\n",
        "  for j in range(n):\n",
        "    print(\"*\",end=\" \")\n",
        "  print()"
      ]
    },
    {
      "cell_type": "code",
      "execution_count": null,
      "metadata": {
        "colab": {
          "base_uri": "https://localhost:8080/"
        },
        "id": "Tk33qcs9PRcV",
        "outputId": "1e43bcab-393a-490e-8764-a79115f353df"
      },
      "outputs": [
        {
          "name": "stdout",
          "output_type": "stream",
          "text": [
            "enter num  of rows:5\n",
            "*\n",
            "**\n",
            "***\n",
            "****\n",
            "*****\n"
          ]
        }
      ],
      "source": [
        "#2\n",
        "n=int(input(\"enter num  of rows:\"))\n",
        "for i in range(n):\n",
        "  for j in range(i+1):\n",
        "    print(\"*\",end=\"\")\n",
        "  print()"
      ]
    },
    {
      "cell_type": "code",
      "execution_count": null,
      "metadata": {
        "colab": {
          "base_uri": "https://localhost:8080/"
        },
        "id": "wPj5gnXlP4kx",
        "outputId": "8e318f97-32dc-484d-9e33-d0645bd20eb0"
      },
      "outputs": [
        {
          "name": "stdout",
          "output_type": "stream",
          "text": [
            "enter num of rows :5\n",
            "*****\n",
            "****\n",
            "***\n",
            "**\n",
            "*\n"
          ]
        }
      ],
      "source": [
        "#3\n",
        "n=int(input(\"enter num of rows :\"))\n",
        "for i in range(n):\n",
        "  for j in range(i,n):\n",
        "    print(\"*\",end=\"\")\n",
        "  print()"
      ]
    },
    {
      "cell_type": "code",
      "execution_count": null,
      "metadata": {
        "colab": {
          "base_uri": "https://localhost:8080/"
        },
        "id": "l9Bo4XRBRaAG",
        "outputId": "9bcfe087-f7b1-4164-9294-e16c9cd6b91e"
      },
      "outputs": [
        {
          "name": "stdout",
          "output_type": "stream",
          "text": [
            "enter num of rows :5\n",
            "     *\n",
            "    **\n",
            "   ***\n",
            "  ****\n",
            " *****\n"
          ]
        }
      ],
      "source": [
        "#4\n",
        "n=int(input(\"enter num of rows :\"))\n",
        "for i in range(n):\n",
        "   for j in range(i,n):\n",
        "      print(\" \",end=\"\")\n",
        "   for j in range(i+1):\n",
        "     print(\"*\",end=\"\")\n",
        "   print()"
      ]
    },
    {
      "cell_type": "code",
      "execution_count": null,
      "metadata": {
        "colab": {
          "base_uri": "https://localhost:8080/"
        },
        "id": "mqz-M7t0MAAK",
        "outputId": "70ef9f1b-b8c2-4b37-aa4c-acc582d81e33"
      },
      "outputs": [
        {
          "name": "stdout",
          "output_type": "stream",
          "text": [
            "enter num of rows :5\n",
            " *****\n",
            "  ****\n",
            "   ***\n",
            "    **\n",
            "     *\n"
          ]
        }
      ],
      "source": [
        "#5\n",
        "n=int(input(\"enter num of rows :\"))\n",
        "for i in range(n):\n",
        "  for j in range(i+1):\n",
        "    print(\" \",end=\"\")\n",
        "  for j in range(i,n):\n",
        "    print(\"*\",end=\"\")\n",
        "  print()"
      ]
    },
    {
      "cell_type": "code",
      "execution_count": null,
      "metadata": {
        "colab": {
          "base_uri": "https://localhost:8080/"
        },
        "id": "D-0dLVhrJxH3",
        "outputId": "6f274d3f-4d63-4bb3-eaea-2efe7d01faa4"
      },
      "outputs": [
        {
          "name": "stdout",
          "output_type": "stream",
          "text": [
            "enter num of rows :5\n",
            "     *\n",
            "    ***\n",
            "   *****\n",
            "  *******\n",
            " *********\n"
          ]
        }
      ],
      "source": [
        "#6\n",
        "n=int(input(\"enter num of rows :\"))\n",
        "for i in range(n):\n",
        "  for j in range(i,n):\n",
        "    print(\" \",end=\"\")\n",
        "  for j in range(i):\n",
        "    print(\"*\",end=\"\")\n",
        "  for j in range(i+1):\n",
        "    print(\"*\",end=\"\")\n",
        "  print()"
      ]
    },
    {
      "cell_type": "code",
      "execution_count": null,
      "metadata": {
        "colab": {
          "base_uri": "https://localhost:8080/"
        },
        "id": "PSOqIw-ENBlF",
        "outputId": "ca862f47-2d5b-444b-c550-324042e87521"
      },
      "outputs": [
        {
          "name": "stdout",
          "output_type": "stream",
          "text": [
            "enter num of rows :5\n",
            " *********\n",
            "  *******\n",
            "   *****\n",
            "    ***\n",
            "     *\n"
          ]
        }
      ],
      "source": [
        "#7\n",
        "n=int(input(\"enter num of rows :\"))\n",
        "for i in range(n):\n",
        "  for j in range(i+1):\n",
        "   print(\" \",end=\"\")\n",
        "  for j in range(i,n):\n",
        "   print(\"*\",end=\"\")\n",
        "  for j in range(i+1,n):\n",
        "    print(\"*\",end=\"\")\n",
        "  print()"
      ]
    },
    {
      "cell_type": "code",
      "execution_count": null,
      "metadata": {
        "colab": {
          "base_uri": "https://localhost:8080/"
        },
        "id": "O9KNHQOcODbW",
        "outputId": "2ccb5ee3-da1d-4fe8-e1c0-53f1de8ddee9"
      },
      "outputs": [
        {
          "name": "stdout",
          "output_type": "stream",
          "text": [
            "enter num of rows :6\n",
            "      *\n",
            "     ***\n",
            "    *****\n",
            "   *******\n",
            "  *********\n",
            " ***********\n",
            "  *********\n",
            "   *******\n",
            "    *****\n",
            "     ***\n",
            "      *\n"
          ]
        }
      ],
      "source": [
        "#8\n",
        "n=int(input(\"enter num of rows :\"))\n",
        "for i in range(n-1):\n",
        "  for j in range(i,n):\n",
        "    print(\" \",end=\"\")\n",
        "  for j in range(i):\n",
        "    print(\"*\",end=\"\")\n",
        "  for j in range(i+1):\n",
        "     print(\"*\",end=\"\")\n",
        "  print()\n",
        "for i in range(n):\n",
        "  for j in range(i+1):\n",
        "   print(\" \",end=\"\")\n",
        "  for j in range(i,n):\n",
        "   print(\"*\",end=\"\")\n",
        "  for j in range(i+1,n):\n",
        "    print(\"*\",end=\"\")\n",
        "  print()"
      ]
    },
    {
      "cell_type": "code",
      "execution_count": null,
      "metadata": {
        "colab": {
          "base_uri": "https://localhost:8080/"
        },
        "id": "UHoniHvjp-87",
        "outputId": "94ac13de-4e01-410b-c009-7696b85e49a3"
      },
      "outputs": [
        {
          "name": "stdout",
          "output_type": "stream",
          "text": [
            "enter num of rows5\n",
            "     *\n",
            "    **\n",
            "   ***\n",
            "  ****\n",
            " *****\n",
            "  ****\n",
            "   ***\n",
            "    **\n",
            "     *\n"
          ]
        }
      ],
      "source": [
        "#9\n",
        "n=int(input(\"enter num of rows\"))\n",
        "for i in range(n-1):\n",
        "  for j in range(i,n):\n",
        "    print(\" \",end=\"\")\n",
        "  for j in range(i+1):\n",
        "    print(\"*\",end=\"\")\n",
        "  print()\n",
        "for i in range(n):\n",
        "  for j in range(i+1):\n",
        "    print(\" \",end=\"\")\n",
        "  for j in range(i,n):\n",
        "    print(\"*\",end=\"\")\n",
        "  print()"
      ]
    },
    {
      "cell_type": "code",
      "execution_count": null,
      "metadata": {
        "colab": {
          "base_uri": "https://localhost:8080/"
        },
        "id": "MULLF-pLsmO5",
        "outputId": "0b4fc6ad-07a2-4e9b-b472-3aab390b30af"
      },
      "outputs": [
        {
          "name": "stdout",
          "output_type": "stream",
          "text": [
            "enter num of rows :5\n",
            "*     \n",
            "**    \n",
            "***   \n",
            "****  \n",
            "***** \n",
            "****  \n",
            "***   \n",
            "**    \n",
            "*     \n"
          ]
        }
      ],
      "source": [
        "#10\n",
        "n=int(input(\"enter num of rows :\"))\n",
        "for i in range(n-1):\n",
        "  for j in range(i+1):\n",
        "    print(\"*\",end=\"\")\n",
        "  for j in range(i,n):\n",
        "    print(\" \",end=\"\")\n",
        "  print()\n",
        "for i in range(n):\n",
        "  for j in range(i,n):\n",
        "    print(\"*\",end=\"\")\n",
        "  for j in range(i+1):\n",
        "    print(\" \",end=\"\")\n",
        "  print()\n"
      ]
    },
    {
      "cell_type": "code",
      "execution_count": null,
      "metadata": {
        "colab": {
          "base_uri": "https://localhost:8080/"
        },
        "id": "Cs9aLe898u11",
        "outputId": "25c8809a-5ee4-48b1-d651-b7370849961f"
      },
      "outputs": [
        {
          "name": "stdout",
          "output_type": "stream",
          "text": [
            "enter num of rows :5\n",
            "*        *\n",
            "**      **\n",
            "***    ***\n",
            "****  ****\n",
            "**********\n",
            "****  ****\n",
            "***    ***\n",
            "**      **\n",
            "*        *\n"
          ]
        }
      ],
      "source": [
        "#11\n",
        "n=int(input(\"enter num of rows :\"))\n",
        "for i in range (n-1):\n",
        "  for j in range(i+1):\n",
        "    print(\"*\",end=\"\")\n",
        "  for j in range(i,n-1):\n",
        "    print(\" \",end=\"\")\n",
        "  for j in range(i,n-1):\n",
        "    print(\" \",end=\"\")\n",
        "  for j in range(i+1):\n",
        "    print(\"*\",end=\"\")\n",
        "  print()\n",
        "for i in range (n):\n",
        "  for j in range(i,n):\n",
        "    print(\"*\",end=\"\")\n",
        "  for j in range(i):\n",
        "    print(\" \",end=\"\")\n",
        "  for j in range(i):\n",
        "    print(\" \",end=\"\")\n",
        "  for j in range(i,n):\n",
        "    print(\"*\",end=\"\")\n",
        "  print()"
      ]
    },
    {
      "cell_type": "code",
      "execution_count": 102,
      "metadata": {
        "colab": {
          "base_uri": "https://localhost:8080/"
        },
        "id": "XJWG3A-KDnF6",
        "outputId": "769087a9-1596-43c3-f4f3-ef4f2978a39a"
      },
      "outputs": [
        {
          "output_type": "stream",
          "name": "stdout",
          "text": [
            "enter no rows :5\n",
            " * * * * * \n",
            "  * * * * \n",
            "   * * * \n",
            "    * * \n",
            "     * \n",
            "    * * \n",
            "   * * * \n",
            "  * * * * \n",
            " * * * * * \n"
          ]
        }
      ],
      "source": [
        "#12\n",
        "n=int(input(\"enter no rows :\"))\n",
        "for i in range(n-1):\n",
        "  for j in range(i+1):\n",
        "    print(\" \",end=\"\")\n",
        "  for j in range(i,n):\n",
        "    print(\"*\",end=\" \")\n",
        "  print()\n",
        "for i in range(n):\n",
        "  for j in range(i,n):\n",
        "    print(\" \",end=\"\")\n",
        "  for j in range(i+1):\n",
        "    print(\"*\",end=\" \")\n",
        "  print()"
      ]
    },
    {
      "cell_type": "code",
      "execution_count": 111,
      "metadata": {
        "id": "geTpg8-w4qLc",
        "colab": {
          "base_uri": "https://localhost:8080/"
        },
        "outputId": "092ed1e8-9c7d-4551-85e2-2fef7535e964"
      },
      "outputs": [
        {
          "output_type": "stream",
          "name": "stdout",
          "text": [
            "enter no of rows :5\n",
            "* * * * * \n",
            "*       * \n",
            "*       * \n",
            "*       * \n",
            "* * * * * \n"
          ]
        }
      ],
      "source": [
        "#13\n",
        "n=int(input(\"enter no of rows :\"))\n",
        "for i in range(1, n+1):\n",
        "    for j in range(1, n+1):\n",
        "        if i == 1 or i == n or j == 1 or j == n:\n",
        "            print(\"*\", end=\" \")\n",
        "        else:\n",
        "            print(\" \", end=\" \")\n",
        "    print()\n"
      ]
    },
    {
      "cell_type": "code",
      "execution_count": 114,
      "metadata": {
        "id": "0BB1KeviKW-v",
        "colab": {
          "base_uri": "https://localhost:8080/"
        },
        "outputId": "283155a7-f0ad-4efb-bc13-9bb662e07206"
      },
      "outputs": [
        {
          "output_type": "stream",
          "name": "stdout",
          "text": [
            " ** ** \n",
            "*  *  *\n",
            "*     *\n",
            " *   * \n",
            "  * *  \n",
            "   *   \n"
          ]
        }
      ],
      "source": [
        "#14\n",
        "for row in range(6):\n",
        "  for col in range(7):\n",
        "    if (row==0 and col%3!=0) or (row==1 and col%3==0) or (row-col==2) or (row+col==8):\n",
        "      print(\"*\",end=\"\")\n",
        "    else :\n",
        "      print(\" \",end=\"\")\n",
        "  print()"
      ]
    },
    {
      "cell_type": "code",
      "execution_count": 116,
      "metadata": {
        "id": "MJCLJRP3KXo8",
        "colab": {
          "base_uri": "https://localhost:8080/"
        },
        "outputId": "cc7f0b37-1623-403a-9e41-7b409b0696a4"
      },
      "outputs": [
        {
          "output_type": "stream",
          "name": "stdout",
          "text": [
            "enter no of rows :5\n",
            "enter no of coloums:8\n",
            "* * * * * * * * \n",
            "*             * \n",
            "*             * \n",
            "*             * \n",
            "* * * * * * * * \n"
          ]
        }
      ],
      "source": [
        "#15\n",
        "rows = int(input(\"enter no of rows :\"))\n",
        "cols = int(input(\"enter no of coloums:\"))\n",
        "for i in range(rows):\n",
        "    for j in range(cols):\n",
        "        if i == 0 or i == rows - 1 or j == 0 or j == cols - 1:\n",
        "            print(\"*\", end=\" \")\n",
        "        else:\n",
        "            print(\" \", end=\" \")\n",
        "    print()\n"
      ]
    },
    {
      "cell_type": "code",
      "execution_count": null,
      "metadata": {
        "colab": {
          "base_uri": "https://localhost:8080/"
        },
        "id": "HFSEqhdu2jUN",
        "outputId": "a84d69a5-ed00-46a4-d89c-3f3e50eb9688"
      },
      "outputs": [
        {
          "name": "stdout",
          "output_type": "stream",
          "text": [
            "enter no of rows :5\n",
            "1\n",
            "22\n",
            "333\n",
            "4444\n",
            "55555\n"
          ]
        }
      ],
      "source": [
        "#16\n",
        "n=int(input(\"enter no of rows :\"))\n",
        "p=1\n",
        "for i in range(n):\n",
        "  for j in range(i+1):\n",
        "    print(p,end=\"\")\n",
        "  p=p+1\n",
        "  print()"
      ]
    },
    {
      "cell_type": "code",
      "execution_count": null,
      "metadata": {
        "colab": {
          "base_uri": "https://localhost:8080/"
        },
        "id": "cbcgcRav2jXv",
        "outputId": "6d47860a-d037-4808-8935-4db1174ba44c"
      },
      "outputs": [
        {
          "name": "stdout",
          "output_type": "stream",
          "text": [
            "enter no of rows :5\n",
            "enter no of rows :5\n",
            "5\n",
            "44\n",
            "333\n",
            "2222\n",
            "11111\n"
          ]
        }
      ],
      "source": [
        "#17\n",
        "n=int(input(\"enter no of rows :\"))\n",
        "p=int(input(\"enter no of rows :\"))\n",
        "for i in range(n):\n",
        "  for j in range(i+1):\n",
        "    print(p,end=\"\")\n",
        "  p=p-1\n",
        "  print()"
      ]
    },
    {
      "cell_type": "code",
      "execution_count": null,
      "metadata": {
        "colab": {
          "base_uri": "https://localhost:8080/"
        },
        "id": "BQRnOhYS2jj1",
        "outputId": "eb239e30-5fc0-41c3-b8de-645ae4d678e8"
      },
      "outputs": [
        {
          "name": "stdout",
          "output_type": "stream",
          "text": [
            "enter no of rows :5\n",
            "0\n",
            "22\n",
            "444\n",
            "6666\n",
            "88888\n"
          ]
        }
      ],
      "source": [
        "#16\n",
        "n=int(input(\"enter no of rows :\"))\n",
        "p=0\n",
        "for i in range(n):\n",
        "  for j in range(i+1):\n",
        "    print(p,end=\"\")\n",
        "  p=p+2\n",
        "  print()"
      ]
    },
    {
      "cell_type": "code",
      "execution_count": null,
      "metadata": {
        "colab": {
          "base_uri": "https://localhost:8080/"
        },
        "id": "VTi9veJg2jmW",
        "outputId": "ec209d2c-6f90-42a3-952c-94125ec1a9d8"
      },
      "outputs": [
        {
          "name": "stdout",
          "output_type": "stream",
          "text": [
            "enter no of rows :5\n",
            "1\n",
            "22\n",
            "111\n",
            "2222\n",
            "11111\n"
          ]
        }
      ],
      "source": [
        "#17\n",
        "n=int(input(\"enter no of rows :\"))\n",
        "for i in range(n):\n",
        "  for j in range(i+1):\n",
        "    if i%2==0:\n",
        "      print(\"1\",end=\"\")\n",
        "    else :\n",
        "      print(\"2\",end=\"\")\n",
        "  print()"
      ]
    },
    {
      "cell_type": "code",
      "execution_count": null,
      "metadata": {
        "colab": {
          "base_uri": "https://localhost:8080/"
        },
        "id": "jxFW0wbW2jom",
        "outputId": "17f52a47-cac6-4ede-ef1c-beed44de4977"
      },
      "outputs": [
        {
          "name": "stdout",
          "output_type": "stream",
          "text": [
            "enter num of rows :5\n",
            "     1\n",
            "    222\n",
            "   33333\n",
            "  4444444\n",
            " 555555555\n",
            "  6666666\n",
            "   77777\n",
            "    888\n",
            "     9\n"
          ]
        }
      ],
      "source": [
        "#18\n",
        "n=int(input(\"enter num of rows :\"))\n",
        "p=1\n",
        "for i in range(n-1):\n",
        "  for j in range(i,n):\n",
        "    print(\" \",end=\"\")\n",
        "  for j in range(i):\n",
        "    print(p,end=\"\")\n",
        "  for j in range(i+1):\n",
        "     print(p,end=\"\")\n",
        "  p=p+1\n",
        "  print()\n",
        "for i in range(n):\n",
        "  for j in range(i+1):\n",
        "   print(\" \",end=\"\")\n",
        "  for j in range(i,n):\n",
        "   print(p,end=\"\")\n",
        "  for j in range(i+1,n):\n",
        "    print(p,end=\"\")\n",
        "  p=p+1\n",
        "  print()"
      ]
    },
    {
      "cell_type": "code",
      "execution_count": null,
      "metadata": {
        "colab": {
          "base_uri": "https://localhost:8080/"
        },
        "id": "yyw-UMu-2jrm",
        "outputId": "a862bf40-924e-4c4f-96a2-10e5a407f67e"
      },
      "outputs": [
        {
          "name": "stdout",
          "output_type": "stream",
          "text": [
            "enter num of rows :5\n",
            "     1\n",
            "    222\n",
            "   33333\n",
            "  4444444\n",
            " 555555555\n",
            "  4444444\n",
            "   33333\n",
            "    222\n",
            "     1\n"
          ]
        }
      ],
      "source": [
        "#19\n",
        "n=int(input(\"enter num of rows :\"))\n",
        "p=1\n",
        "for i in range(n-1):\n",
        "  for j in range(i,n):\n",
        "    print(\" \",end=\"\")\n",
        "  for j in range(i):\n",
        "    print(p,end=\"\")\n",
        "  for j in range(i+1):\n",
        "     print(p,end=\"\")\n",
        "  p=p+1\n",
        "  print()\n",
        "for i in range(n):\n",
        "  for j in range(i+1):\n",
        "   print(\" \",end=\"\")\n",
        "  for j in range(i,n):\n",
        "   print(p,end=\"\")\n",
        "  for j in range(i+1,n):\n",
        "    print(p,end=\"\")\n",
        "  p=p-1\n",
        "  print()"
      ]
    },
    {
      "cell_type": "code",
      "execution_count": null,
      "metadata": {
        "colab": {
          "base_uri": "https://localhost:8080/"
        },
        "id": "Gs8we9dc2juG",
        "outputId": "3020caf0-6273-4361-c49e-c93d520bf5e0"
      },
      "outputs": [
        {
          "name": "stdout",
          "output_type": "stream",
          "text": [
            "enter no of rows :5\n",
            "1\n",
            "12\n",
            "123\n",
            "1234\n",
            "12345\n"
          ]
        }
      ],
      "source": [
        "#20\n",
        "n=int(input(\"enter no of rows :\"))\n",
        "for i in range(n):\n",
        "  p=1\n",
        "  for j in range(i+1):\n",
        "    print(p,end=\"\")\n",
        "    p=p+1\n",
        "  print()"
      ]
    },
    {
      "cell_type": "code",
      "execution_count": null,
      "metadata": {
        "colab": {
          "base_uri": "https://localhost:8080/"
        },
        "id": "HrDmf0Ea2jxk",
        "outputId": "cea8ab4f-901c-4d26-e7a8-b7fcaefffe80"
      },
      "outputs": [
        {
          "name": "stdout",
          "output_type": "stream",
          "text": [
            "enter no of rows :5\n",
            " 12345\n",
            "  1234\n",
            "   123\n",
            "    12\n",
            "     1\n"
          ]
        }
      ],
      "source": [
        "#21\n",
        "n=int(input(\"enter no of rows :\"))\n",
        "for i in range(n):\n",
        "  p=1\n",
        "  for j in range(i+1):\n",
        "    print(\" \",end=\"\")\n",
        "  for j in range(i,n):\n",
        "    print(p,end=\"\")\n",
        "    p=p+1\n",
        "  print()"
      ]
    },
    {
      "cell_type": "code",
      "execution_count": null,
      "metadata": {
        "colab": {
          "base_uri": "https://localhost:8080/"
        },
        "id": "sJ2KvXWGuu-F",
        "outputId": "6e8a8623-e5af-489e-b1af-fbd12c3a00fc"
      },
      "outputs": [
        {
          "name": "stdout",
          "output_type": "stream",
          "text": [
            "enter no of rows :5\n",
            "     1\n",
            "    123\n",
            "   12345\n",
            "  1234567\n",
            " 123456789\n"
          ]
        }
      ],
      "source": [
        "#22\n",
        "n=int(input(\"enter no of rows :\"))\n",
        "for i in range(n):\n",
        "  p=1\n",
        "  for j in range(i,n):\n",
        "    print(\" \",end=\"\")\n",
        "  for j in range(i):\n",
        "    print(p,end=\"\")\n",
        "    p=p+1\n",
        "  for j in range(i+1):\n",
        "    print(p,end=\"\")\n",
        "    p=p+1\n",
        "  print()"
      ]
    },
    {
      "cell_type": "code",
      "execution_count": null,
      "metadata": {
        "colab": {
          "base_uri": "https://localhost:8080/"
        },
        "id": "jvRHoCQ-vpPs",
        "outputId": "f66925f9-e7f4-4f95-9510-7c1ba0f88217"
      },
      "outputs": [
        {
          "name": "stdout",
          "output_type": "stream",
          "text": [
            "enter no of rows :5\n",
            "5\n",
            "54\n",
            "543\n",
            "5432\n",
            "54321\n"
          ]
        }
      ],
      "source": [
        "#23\n",
        "n=int(input(\"enter no of rows :\"))\n",
        "for i  in range(n):\n",
        "  p=5\n",
        "  for j in range(i+1):\n",
        "    print(p,end=\"\")\n",
        "    p=p-1\n",
        "  print()\n"
      ]
    },
    {
      "cell_type": "code",
      "execution_count": null,
      "metadata": {
        "colab": {
          "base_uri": "https://localhost:8080/"
        },
        "id": "edwCkNsGGIrA",
        "outputId": "52cfcc92-f286-458d-a9f7-23e4a02ccab2"
      },
      "outputs": [
        {
          "name": "stdout",
          "output_type": "stream",
          "text": [
            "enter no of rows :5\n",
            " 56789\n",
            "  4567\n",
            "   345\n",
            "    23\n",
            "     1\n"
          ]
        }
      ],
      "source": [
        "#24\n",
        "n=int(input(\"enter no of rows :\"))\n",
        "k=5\n",
        "for i in range(n):\n",
        "  p=k\n",
        "  for j in range(i+1):\n",
        "    print(\" \",end=\"\")\n",
        "  for j in range(i,n):\n",
        "    print(p,end=\"\")\n",
        "    p=p+1\n",
        "  k=k-1\n",
        "  print()"
      ]
    },
    {
      "cell_type": "code",
      "execution_count": null,
      "metadata": {
        "colab": {
          "base_uri": "https://localhost:8080/"
        },
        "id": "e3TezO5s_Rep",
        "outputId": "e0c7f8a7-8894-4f6d-9666-c0d2bda62466"
      },
      "outputs": [
        {
          "name": "stdout",
          "output_type": "stream",
          "text": [
            "enter no of rows :5\n",
            "1\n",
            "22\n",
            "333\n",
            "4444\n",
            "55555\n"
          ]
        }
      ],
      "source": [
        "#25\n",
        "n=int(input(\"enter no of rows :\"))\n",
        "p=1\n",
        "for i in range(n):\n",
        "  for j in range(i+1):\n",
        "    print(p,end=\"\")\n",
        "  p=p+1\n",
        "  print()"
      ]
    },
    {
      "cell_type": "code",
      "execution_count": null,
      "metadata": {
        "colab": {
          "base_uri": "https://localhost:8080/"
        },
        "id": "bQ3-OdrF_yI0",
        "outputId": "8578313d-9907-4572-f695-ff7434a5b1b5"
      },
      "outputs": [
        {
          "name": "stdout",
          "output_type": "stream",
          "text": [
            "enter no of rows :5\n",
            "55555\n",
            "4444\n",
            "333\n",
            "22\n",
            "1\n"
          ]
        }
      ],
      "source": [
        "#26\n",
        "n=int(input(\"enter no of rows :\"))\n",
        "p=5\n",
        "for i in range(n):\n",
        "  for j in range(i,n):\n",
        "    print(p,end=\"\")\n",
        "  p=p-1\n",
        "  print()\n",
        "\n"
      ]
    },
    {
      "cell_type": "code",
      "execution_count": null,
      "metadata": {
        "colab": {
          "base_uri": "https://localhost:8080/"
        },
        "id": "guLlYhGu_yMM",
        "outputId": "db8d0aa3-734e-4fc7-b79d-85a64a4c1f44"
      },
      "outputs": [
        {
          "name": "stdout",
          "output_type": "stream",
          "text": [
            "enter no of rows :5\n",
            "1\n",
            "33\n",
            "555\n",
            "7777\n",
            "99999\n"
          ]
        }
      ],
      "source": [
        "#27\n",
        "n=int(input(\"enter no of rows :\"))\n",
        "p=1\n",
        "for i in range(n):\n",
        "  for j in range(i+1):\n",
        "    print(p,end=\"\")\n",
        "  p=p+2\n",
        "  print()"
      ]
    },
    {
      "cell_type": "code",
      "execution_count": null,
      "metadata": {
        "colab": {
          "base_uri": "https://localhost:8080/"
        },
        "id": "AJXmVWv97jlU",
        "outputId": "b49f5a6a-e797-4764-d8ee-22a8fc994ffc"
      },
      "outputs": [
        {
          "name": "stdout",
          "output_type": "stream",
          "text": [
            "enter no of rows :5\n",
            "1\n",
            "22\n",
            "333\n",
            "4444\n",
            "55555\n"
          ]
        }
      ],
      "source": [
        "#28\n",
        "n=int(input(\"enter no of rows :\"))\n",
        "p=1\n",
        "for i in range(n):\n",
        "  for j in range(i+1):\n",
        "    print(p,end=\"\")\n",
        "  p=p+1\n",
        "  print()"
      ]
    },
    {
      "cell_type": "code",
      "execution_count": null,
      "metadata": {
        "colab": {
          "base_uri": "https://localhost:8080/"
        },
        "id": "O8kisnHb7Pm-",
        "outputId": "5fa49464-6cad-4026-8a9c-acd2295c1063"
      },
      "outputs": [
        {
          "name": "stdout",
          "output_type": "stream",
          "text": [
            "enter number of rows :5\n",
            "11111\n",
            "2222\n",
            "333\n",
            "44\n",
            "5\n"
          ]
        }
      ],
      "source": [
        "#29\n",
        "n=int(input(\"enter number of rows :\"))\n",
        "p=1\n",
        "for i in range(n):\n",
        "  for j in range(i,n):\n",
        "    print(p,end=\"\")\n",
        "  p=p+1\n",
        "  print()"
      ]
    },
    {
      "cell_type": "code",
      "execution_count": null,
      "metadata": {
        "colab": {
          "base_uri": "https://localhost:8080/"
        },
        "id": "gomxLAEV7_4c",
        "outputId": "67ad8c14-12d7-4fb2-96ee-597be664e88f"
      },
      "outputs": [
        {
          "name": "stdout",
          "output_type": "stream",
          "text": [
            "enter number of rows :6\n",
            "555555\n",
            "55555\n",
            "5555\n",
            "555\n",
            "55\n",
            "5\n"
          ]
        }
      ],
      "source": [
        "#30\n",
        "n=int(input(\"enter number of rows :\"))\n",
        "for i in range(n):\n",
        "  for j in range(i,n):\n",
        "    print(\"5\",end=\"\")\n",
        "  print()"
      ]
    },
    {
      "cell_type": "code",
      "execution_count": null,
      "metadata": {
        "colab": {
          "base_uri": "https://localhost:8080/"
        },
        "id": "q8esianc8Uzy",
        "outputId": "8019ef63-e35d-49bb-d6aa-73a8c918aed2"
      },
      "outputs": [
        {
          "name": "stdout",
          "output_type": "stream",
          "text": [
            "enter number of rows :6\n",
            "012345\n",
            "01234\n",
            "0123\n",
            "012\n",
            "01\n",
            "0\n"
          ]
        }
      ],
      "source": [
        "#31\n",
        "n=int(input(\"enter number of rows :\"))\n",
        "for i in range(n):\n",
        "  p=0\n",
        "  for j in range(i,n):\n",
        "    print(p,end=\"\")\n",
        "    p=p+1\n",
        "  print()"
      ]
    },
    {
      "cell_type": "code",
      "execution_count": 104,
      "metadata": {
        "colab": {
          "base_uri": "https://localhost:8080/"
        },
        "id": "2H_MaC07Ab9y",
        "outputId": "f0396727-971a-4030-dc29-5506a3df1bbf"
      },
      "outputs": [
        {
          "output_type": "stream",
          "name": "stdout",
          "text": [
            "enter number of rows :8\n",
            "1\n",
            "24\n",
            "369\n",
            "481216\n",
            "510152025\n",
            "61218243036\n",
            "7142128354249\n",
            "816243240485664\n"
          ]
        }
      ],
      "source": [
        "#32\n",
        "n=int(input(\"enter number of rows :\"))\n",
        "for i in range(1,n+1):\n",
        "  for j in range(1,i+1):\n",
        "    print(i*j,end=\"\")\n",
        "  print()"
      ]
    },
    {
      "cell_type": "code",
      "execution_count": 110,
      "metadata": {
        "colab": {
          "base_uri": "https://localhost:8080/"
        },
        "id": "27SLpP-MhQi9",
        "outputId": "8edfa822-9c3b-48ee-c5e5-0c5b7bf3aa8e"
      },
      "outputs": [
        {
          "output_type": "stream",
          "name": "stdout",
          "text": [
            "enter no of rows :5\n",
            "12345\n",
            "22345\n",
            "33345\n",
            "44445\n",
            "55555\n"
          ]
        }
      ],
      "source": [
        "#33\n",
        "n=int(input(\"enter no of rows :\"))\n",
        "for i in range(1,n+1):\n",
        "  for j in range(1,n+1):\n",
        "    if j<=i:\n",
        "     print(i,end=\"\")\n",
        "    else :\n",
        "     print(j,end=\"\")\n",
        "  print()"
      ]
    }
  ],
  "metadata": {
    "colab": {
      "provenance": []
    },
    "kernelspec": {
      "display_name": "Python 3",
      "name": "python3"
    },
    "language_info": {
      "name": "python"
    }
  },
  "nbformat": 4,
  "nbformat_minor": 0
}