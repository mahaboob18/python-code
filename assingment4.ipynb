{
  "nbformat": 4,
  "nbformat_minor": 0,
  "metadata": {
    "colab": {
      "provenance": []
    },
    "kernelspec": {
      "name": "python3",
      "display_name": "Python 3"
    },
    "language_info": {
      "name": "python"
    }
  },
  "cells": [
    {
      "cell_type": "code",
      "source": [
        " #1 Write a for loop that prints numbers from 1 to 5.\n",
        "for y in range(1,6):\n",
        "  print(y)"
      ],
      "metadata": {
        "colab": {
          "base_uri": "https://localhost:8080/"
        },
        "id": "FDQ208dzGCEd",
        "outputId": "8e02ca2c-9806-4990-bcc4-e7af474fd10b"
      },
      "execution_count": 1,
      "outputs": [
        {
          "output_type": "stream",
          "name": "stdout",
          "text": [
            "1\n",
            "2\n",
            "3\n",
            "4\n",
            "5\n"
          ]
        }
      ]
    },
    {
      "cell_type": "code",
      "source": [
        "#2 Given a list of names, write a for loop to print each name.\n",
        "names=[\"mahaboob\",\"buji\",\"jafar\",\"raheem\"]\n",
        "for name in names:\n",
        "  print(name)"
      ],
      "metadata": {
        "colab": {
          "base_uri": "https://localhost:8080/"
        },
        "id": "U61K-kJhHSy6",
        "outputId": "11e26846-1856-4a34-d64f-58d53a061f4d"
      },
      "execution_count": 3,
      "outputs": [
        {
          "output_type": "stream",
          "name": "stdout",
          "text": [
            "mahaboob\n",
            "buji\n",
            "jafar\n",
            "raheem\n"
          ]
        }
      ]
    },
    {
      "cell_type": "code",
      "source": [
        "#3 Create a for loop to print each character of the string \"Hello, World!\".\n",
        "x=\"Hello, World!\"\n",
        "for y in x:\n",
        "  print(y)\n"
      ],
      "metadata": {
        "colab": {
          "base_uri": "https://localhost:8080/"
        },
        "id": "pVc9ZXfgH9Sm",
        "outputId": "9365458a-9ddd-4d61-8d3e-c4974296dfd8"
      },
      "execution_count": 4,
      "outputs": [
        {
          "output_type": "stream",
          "name": "stdout",
          "text": [
            "H\n",
            "e\n",
            "l\n",
            "l\n",
            "o\n",
            ",\n",
            " \n",
            "W\n",
            "o\n",
            "r\n",
            "l\n",
            "d\n",
            "!\n"
          ]
        }
      ]
    },
    {
      "cell_type": "code",
      "source": [
        "#4 Use a for loop to print even numbers from 2 to 10.\n",
        "for x in range(1,11):\n",
        "  if x%2==0:\n",
        "    print(x)\n"
      ],
      "metadata": {
        "colab": {
          "base_uri": "https://localhost:8080/"
        },
        "id": "CNjKsmpWIj2u",
        "outputId": "f2b9890e-a67d-4451-a958-ca0e92b67330"
      },
      "execution_count": 5,
      "outputs": [
        {
          "output_type": "stream",
          "name": "stdout",
          "text": [
            "2\n",
            "4\n",
            "6\n",
            "8\n",
            "10\n"
          ]
        }
      ]
    },
    {
      "cell_type": "code",
      "source": [
        "#5 Write a for loop that prints both the index and value of each element in a list.\n",
        "x=\"abcdefgh\"\n",
        "\n",
        "for y in enumerate(x,91):\n",
        "  print(y)\n"
      ],
      "metadata": {
        "colab": {
          "base_uri": "https://localhost:8080/"
        },
        "id": "tW7cbo36MsMX",
        "outputId": "5643bd82-344b-445d-e292-3592b0845b10"
      },
      "execution_count": 6,
      "outputs": [
        {
          "output_type": "stream",
          "name": "stdout",
          "text": [
            "(91, 'a')\n",
            "(92, 'b')\n",
            "(93, 'c')\n",
            "(94, 'd')\n",
            "(95, 'e')\n",
            "(96, 'f')\n",
            "(97, 'g')\n",
            "(98, 'h')\n"
          ]
        }
      ]
    },
    {
      "cell_type": "code",
      "source": [
        " #6 Given a list of words, write a for loop to print words that contain the letter 'a'.\n",
        " words = [\"apple\", \"banana\", \"cherry\", \"grape\", \"kiwi\"]\n",
        "for word in words:\n",
        "  if \"a\" in word:\n",
        "    print(word)"
      ],
      "metadata": {
        "colab": {
          "base_uri": "https://localhost:8080/"
        },
        "id": "F5je_Nezw4b-",
        "outputId": "70adcbad-94d7-4f5d-eee9-f475817706ef"
      },
      "execution_count": 7,
      "outputs": [
        {
          "output_type": "stream",
          "name": "stdout",
          "text": [
            "apple\n",
            "banana\n",
            "grape\n"
          ]
        }
      ]
    },
    {
      "cell_type": "code",
      "source": [
        "#7 Write a program to print multiplication table of a givennumber(input)\n",
        "number=int(input(\"enter table \"))\n",
        "for y in range(1,11):\n",
        "  result=number*y\n",
        "  print(f\"{number}*{y}={result}\")"
      ],
      "metadata": {
        "colab": {
          "base_uri": "https://localhost:8080/"
        },
        "id": "7doiYJl3mCKb",
        "outputId": "1d5cba56-de4c-4b8f-fef3-7dc6e2ece17c"
      },
      "execution_count": 8,
      "outputs": [
        {
          "output_type": "stream",
          "name": "stdout",
          "text": [
            "enter table 99\n",
            "99*1=99\n",
            "99*2=198\n",
            "99*3=297\n",
            "99*4=396\n",
            "99*5=495\n",
            "99*6=594\n",
            "99*7=693\n",
            "99*8=792\n",
            "99*9=891\n",
            "99*10=990\n"
          ]
        }
      ]
    },
    {
      "cell_type": "code",
      "source": [
        "#8 Write a program to count the total number of digits in a number using a use loop.\n",
        "x=input(\"enter digit :\")\n",
        "digit_count=0\n",
        "for y in x:\n",
        "  if y.isdigit():\n",
        "    digit_count=digit_count+1\n",
        "print(\"the total no of digits are :\",digit_count)"
      ],
      "metadata": {
        "colab": {
          "base_uri": "https://localhost:8080/"
        },
        "id": "X4Z4fOxLmCMg",
        "outputId": "ce936d2e-1f60-42f6-c79f-d677e8520314"
      },
      "execution_count": 9,
      "outputs": [
        {
          "output_type": "stream",
          "name": "stdout",
          "text": [
            "enter digit :8897752572\n",
            "the total no of digits are : 10\n"
          ]
        }
      ]
    },
    {
      "cell_type": "code",
      "source": [
        "#9 write a Python program to guess a number between 1 to 100 using for loop and give some  hints to guess the number\n",
        "num=17\n",
        "guess=int(input(\"guessing number 1 to 100 :\"))\n",
        "#hint he is a foreign cricketer who plays for southafrica and royal challengers bangalore\n",
        "max_attempts=5\n",
        "for attempts in range(1,max_attempts):\n",
        "  if guess!=num:\n",
        "    guess=int(input(\"you guessed number is wrong try again :\"))\n",
        "#  we call him as mr.360 and alien from different planet\n",
        "  else :\n",
        "    print(\"you guessed number is correct :\",guess)"
      ],
      "metadata": {
        "colab": {
          "base_uri": "https://localhost:8080/"
        },
        "id": "-Aq29BEemCR_",
        "outputId": "fc973bb2-f699-4539-d1e9-f4af128f1ddc"
      },
      "execution_count": 10,
      "outputs": [
        {
          "output_type": "stream",
          "name": "stdout",
          "text": [
            "guessing number 1 to 100 :18\n",
            "you guessed number is wrong try again :13\n",
            "you guessed number is wrong try again :10\n",
            "you guessed number is wrong try again :17\n",
            "you guessed number is correct : 17\n"
          ]
        }
      ]
    },
    {
      "cell_type": "code",
      "source": [
        "#10 Write a program in Python to reverse a word by using for loop\n",
        "word=input(\"enter word :\")\n",
        "reversed_word=\"\"\n",
        "i=len(word)-1\n",
        "for y in word:\n",
        "  reversed_word=reversed_word+word[i]\n",
        "  i=i-1\n",
        "print(\"reversed word : \",reversed_word)"
      ],
      "metadata": {
        "id": "7P-b7iBVmCUn",
        "colab": {
          "base_uri": "https://localhost:8080/"
        },
        "outputId": "14e2e6d9-00ad-47d6-da28-19a7ccee79ed"
      },
      "execution_count": 11,
      "outputs": [
        {
          "output_type": "stream",
          "name": "stdout",
          "text": [
            "enter word :mahaboob\n",
            "reversed word :  boobaham\n"
          ]
        }
      ]
    },
    {
      "cell_type": "code",
      "source": [
        "#11 Write a program that calculates the factorial of a number using a while loop.\n",
        "num=int(input(\"enter number:\"))\n",
        "fact=1\n",
        "for i in range(num):\n",
        "  fact=fact*num\n",
        "  num=num-1\n",
        "print(\"factorials :\",fact)"
      ],
      "metadata": {
        "colab": {
          "base_uri": "https://localhost:8080/"
        },
        "id": "lJ1ujshnLTQQ",
        "outputId": "93168d57-20c2-4d86-bd94-983eb6fe6e14"
      },
      "execution_count": 13,
      "outputs": [
        {
          "output_type": "stream",
          "name": "stdout",
          "text": [
            "enter number:10\n",
            "factorials : 3628800\n"
          ]
        }
      ]
    },
    {
      "cell_type": "code",
      "source": [
        "#12 Write a program to accept a number from a user and calculate the sum of all numbers from 1 to a given number\n",
        "num=int(input(\"given number :\"))\n",
        "sum=0\n",
        "for i in range(num):\n",
        "  sum=sum+num\n",
        "  num=num- 1\n",
        "print(\"the sum of all numbers from one to given number is :\",sum)"
      ],
      "metadata": {
        "colab": {
          "base_uri": "https://localhost:8080/"
        },
        "id": "hvbvAhO0LXOe",
        "outputId": "943b0219-87ca-48fb-a737-9f30b7dbf2ea"
      },
      "execution_count": 14,
      "outputs": [
        {
          "output_type": "stream",
          "name": "stdout",
          "text": [
            "given number :100\n",
            "the sum of all numbers from one to given number is : 5050\n"
          ]
        }
      ]
    },
    {
      "cell_type": "code",
      "source": [
        "#13 Write a Python program that calculates the sum of all odd numbers from 1 to given number using a for loop.\n",
        "n=int(input(\"given number :\"))\n",
        "even=0\n",
        "for i in range(n):\n",
        "  if i%2==0:\n",
        "    even=even+i\n",
        "print(\"the sum of all even numbers from 1 to given number :\",even)"
      ],
      "metadata": {
        "id": "pqSrCKRamCXQ",
        "colab": {
          "base_uri": "https://localhost:8080/"
        },
        "outputId": "587dedd9-40ec-4027-e535-c4bb0bc3e980"
      },
      "execution_count": 15,
      "outputs": [
        {
          "output_type": "stream",
          "name": "stdout",
          "text": [
            "given number :20\n",
            "the sum of all even numbers from 1 to given number : 90\n"
          ]
        }
      ]
    },
    {
      "cell_type": "code",
      "source": [
        "#14 Write a Python program that calculates the sum of all odd numbers from 1 to given number using a for loop.\n",
        "n=int(input(\"given number :\"))\n",
        "odd=0\n",
        "for i in range(n):\n",
        "  if i%2!=0:\n",
        "    odd=odd+i\n",
        "print(\"the sum of all odd numbers from 1 to given number :\",odd)"
      ],
      "metadata": {
        "colab": {
          "base_uri": "https://localhost:8080/"
        },
        "id": "qv-zF2HrLg_u",
        "outputId": "73bb77bd-9528-44b6-fa6d-1013de485e0c"
      },
      "execution_count": 16,
      "outputs": [
        {
          "output_type": "stream",
          "name": "stdout",
          "text": [
            "given number :20\n",
            "the sum of all odd numbers from 1 to given number : 100\n"
          ]
        }
      ]
    },
    {
      "cell_type": "code",
      "source": [
        "#15 Write a Python program which will remove all digits or any other characters from the string except alphabets\n",
        "x=input(\"enter string : \")\n",
        "alpha=\"\"\n",
        "index=0\n",
        "for i in x:\n",
        "  char=x[index]\n",
        "  if char.isalpha():\n",
        "    alpha=alpha+char\n",
        "  index=index+1\n",
        "print(\"the string only contains alphabets :\",alpha)\n"
      ],
      "metadata": {
        "id": "j8Z-ZrdImCaF",
        "colab": {
          "base_uri": "https://localhost:8080/"
        },
        "outputId": "5f7bd6b9-4909-4b37-b079-a35f09648948"
      },
      "execution_count": 19,
      "outputs": [
        {
          "output_type": "stream",
          "name": "stdout",
          "text": [
            "enter string : ma123ha#$%@bo85935ob\n",
            "the string only contains alphabets : mahaboob\n"
          ]
        }
      ]
    },
    {
      "cell_type": "code",
      "source": [
        "#16 Write a python program which will accept a digit and print All the numbers before it till 0\n",
        "n=int(input(\"emter number :\"))\n",
        "for i in range(0,n):\n",
        "  n=n-1\n",
        "  print(n)"
      ],
      "metadata": {
        "id": "CofwxomvmCgD",
        "colab": {
          "base_uri": "https://localhost:8080/"
        },
        "outputId": "9789d4b4-12bb-4837-9edc-9f35968305d0"
      },
      "execution_count": 20,
      "outputs": [
        {
          "output_type": "stream",
          "name": "stdout",
          "text": [
            "emter number :5\n",
            "4\n",
            "3\n",
            "2\n",
            "1\n",
            "0\n"
          ]
        }
      ]
    },
    {
      "cell_type": "code",
      "source": [
        "#17 Create a program that counts the number of vowels in a given sentence using a for loop.\n",
        "x=input(\"given sentenced :\")\n",
        "i=len(x)-1\n",
        "count=0\n",
        "for y in x:\n",
        "  char=x[i]\n",
        "  if char in \"aeiou\":\n",
        "    count=count+1\n",
        "  i=i-1\n",
        "print(\"the total number of counts in a givem sentence :\",count)"
      ],
      "metadata": {
        "id": "uKocbMpJmCma",
        "colab": {
          "base_uri": "https://localhost:8080/"
        },
        "outputId": "fc6ec4eb-cc52-44de-fcc3-d882a6bee34f"
      },
      "execution_count": 21,
      "outputs": [
        {
          "output_type": "stream",
          "name": "stdout",
          "text": [
            "given sentenced :i am doing my assingment on for loop\n",
            "the total number of counts in a givem sentence : 11\n"
          ]
        }
      ]
    },
    {
      "cell_type": "code",
      "source": [
        "1#18 Write a program which takes 10 integers as input using loop and print their average value on the screen\n",
        "avg=0\n",
        "sum=0\n",
        "for i in range(10):\n",
        "  n=int(input(\"enter integer :\"))\n",
        "  sum=sum+n\n",
        "  avg=avg+1\n",
        "print(\"the average of 10 intergers are :\",sum/avg)\n"
      ],
      "metadata": {
        "id": "fw4VWbZKmCpv",
        "colab": {
          "base_uri": "https://localhost:8080/"
        },
        "outputId": "cc373689-e0bd-470b-be56-39b4a13b6a13"
      },
      "execution_count": 22,
      "outputs": [
        {
          "output_type": "stream",
          "name": "stdout",
          "text": [
            "enter integer :10\n",
            "enter integer :20\n",
            "enter integer :30\n",
            "enter integer :40\n",
            "enter integer :50\n",
            "enter integer :60\n",
            "enter integer :70\n",
            "enter integer :80\n",
            "enter integer :90\n",
            "enter integer :100\n",
            "the average of 10 intergers are : 55.0\n"
          ]
        }
      ]
    },
    {
      "cell_type": "code",
      "source": [
        "#19 Create a python program print to upper case alphabets with looping concepts (for loop)(a-z)\n",
        "char=\"abcdefghijklmnopqrstuvwxyz\"\n",
        "for alpha in char:\n",
        " if alpha.isalpha():\n",
        "  print(alpha.upper(),end=\"\")"
      ],
      "metadata": {
        "id": "1xfDcnfzJx9K",
        "colab": {
          "base_uri": "https://localhost:8080/"
        },
        "outputId": "9e2f8903-ce4a-4a0e-fd6b-ffb7a7e82089"
      },
      "execution_count": 23,
      "outputs": [
        {
          "output_type": "stream",
          "name": "stdout",
          "text": [
            "ABCDEFGHIJKLMNOPQRSTUVWXYZ"
          ]
        }
      ]
    }
  ]
}